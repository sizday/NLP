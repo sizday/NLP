{
  "nbformat": 4,
  "nbformat_minor": 0,
  "metadata": {
    "colab": {
      "name": "NLP.ipynb",
      "provenance": [],
      "collapsed_sections": [
        "fZYoJ5l3iKb-",
        "6By8rfTpWDRB",
        "KVMxgS05JSAU",
        "ga57e3RoWOSI",
        "LSR4ra-lTteX",
        "DFykxSa1hlEP",
        "hSHrv1oGl7dg",
        "wcvi29QannPX",
        "ym3se6UwdHeV",
        "zYo9FHsKy4B5",
        "rM6C--RAl0mi",
        "nkRKdONZlZtP",
        "Bt_U4bFOyzOZ",
        "S7vqVkAMqGSM",
        "pvm9BkmiqM6_",
        "nErh5mIooHr9",
        "R3NJd9TAwfNS"
      ],
      "toc_visible": true
    },
    "kernelspec": {
      "display_name": "Python 3",
      "language": "python",
      "name": "python3"
    },
    "language_info": {
      "codemirror_mode": {
        "name": "ipython",
        "version": 3
      },
      "file_extension": ".py",
      "mimetype": "text/x-python",
      "name": "python",
      "nbconvert_exporter": "python",
      "pygments_lexer": "ipython3",
      "version": "3.8.6"
    }
  },
  "cells": [
    {
      "cell_type": "markdown",
      "metadata": {
        "id": "eTnmmk3RlNlp"
      },
      "source": [
        "## Data"
      ]
    },
    {
      "cell_type": "markdown",
      "metadata": {
        "id": "fZYoJ5l3iKb-"
      },
      "source": [
        "### Imports"
      ]
    },
    {
      "cell_type": "code",
      "metadata": {
        "colab": {
          "base_uri": "https://localhost:8080/"
        },
        "id": "KP4AMWjHJSAT",
        "outputId": "45af5885-5e12-4bd7-d45c-0653abcbe20d"
      },
      "source": [
        "import time\n",
        "import os\n",
        "from sklearn.neighbors import KNeighborsClassifier \n",
        "from sklearn.ensemble import AdaBoostClassifier\n",
        "from sklearn.tree import DecisionTreeClassifier\n",
        "from xgboost import XGBClassifier\n",
        "from sklearn.ensemble import RandomForestClassifier\n",
        "from sklearn.model_selection import train_test_split\n",
        "from sklearn.svm import SVC\n",
        "from sklearn.model_selection import GridSearchCV\n",
        "from sklearn.metrics import accuracy_score\n",
        "from sklearn.feature_extraction.text import CountVectorizer\n",
        "import bokeh.models as bm, bokeh.plotting as pl\n",
        "from bokeh.io import output_notebook\n",
        "from gensim.models.wrappers import FastText as FastTextGM\n",
        "from gensim.models import Word2Vec\n",
        "from gensim.models import KeyedVectors\n",
        "from sklearn.decomposition import PCA\n",
        "from tensorflow.keras import Sequential\n",
        "from tensorflow.keras.layers import Embedding, Conv1D, Dense, Activation, GlobalMaxPooling1D, Flatten\n",
        "from keras.objectives import categorical_crossentropy\n",
        "from keras.preprocessing.text import Tokenizer\n",
        "from keras.preprocessing.sequence import pad_sequences\n",
        "from keras.utils import plot_model\n",
        "from tensorflow.keras.utils import to_categorical\n",
        "from bs4 import BeautifulSoup\n",
        "import string\n",
        "from nltk.probability import FreqDist\n",
        "import pandas as pd\n",
        "import numpy as np\n",
        "import nltk\n",
        "from nltk.corpus import stopwords \n",
        "from nltk.tokenize import word_tokenize \n",
        "from collections import Counter\n",
        "import matplotlib.pyplot as plt\n",
        "from wordcloud import WordCloud, STOPWORDS  \n",
        "from gensim.models.fasttext import FastText\n",
        "from nltk.stem import WordNetLemmatizer \n",
        "from sklearn.feature_extraction.text import TfidfVectorizer\n",
        "from ipywidgets import IntProgress\n",
        "from IPython.display import display\n",
        "import warnings\n",
        "warnings.filterwarnings(\"ignore\")\n",
        "pd.options.mode.chained_assignment = None \n",
        "output_notebook()\n",
        "nltk.download('averaged_perceptron_tagger')\n",
        "nltk.download('punkt')\n",
        "nltk.download('wordnet')\n",
        "nltk.download('stopwords')"
      ],
      "execution_count": 84,
      "outputs": [
        {
          "output_type": "stream",
          "text": [
            "[nltk_data] Downloading package averaged_perceptron_tagger to\n",
            "[nltk_data]     /root/nltk_data...\n",
            "[nltk_data]   Package averaged_perceptron_tagger is already up-to-\n",
            "[nltk_data]       date!\n",
            "[nltk_data] Downloading package punkt to /root/nltk_data...\n",
            "[nltk_data]   Package punkt is already up-to-date!\n",
            "[nltk_data] Downloading package wordnet to /root/nltk_data...\n",
            "[nltk_data]   Package wordnet is already up-to-date!\n",
            "[nltk_data] Downloading package stopwords to /root/nltk_data...\n",
            "[nltk_data]   Package stopwords is already up-to-date!\n"
          ],
          "name": "stdout"
        },
        {
          "output_type": "execute_result",
          "data": {
            "text/plain": [
              "True"
            ]
          },
          "metadata": {
            "tags": []
          },
          "execution_count": 84
        }
      ]
    },
    {
      "cell_type": "code",
      "metadata": {
        "id": "uYP0iJ2vtcTJ"
      },
      "source": [
        "class_type_encoding = {0: 'HQ', 1: 'LQ_CLOSE', 2: 'LQ_EDIT'}"
      ],
      "execution_count": 85,
      "outputs": []
    },
    {
      "cell_type": "markdown",
      "metadata": {
        "id": "6By8rfTpWDRB"
      },
      "source": [
        "### Loading data"
      ]
    },
    {
      "cell_type": "markdown",
      "metadata": {
        "id": "ak3QT-nCrGqY"
      },
      "source": [
        "Подключимся с помощью GoogleDrive, чтобы в последствии хранить там все результаты и модели"
      ]
    },
    {
      "cell_type": "code",
      "metadata": {
        "colab": {
          "base_uri": "https://localhost:8080/"
        },
        "id": "6-MUoctjFEs8",
        "outputId": "87c28984-6752-4010-b54e-e683f1ca3408"
      },
      "source": [
        "from google.colab import drive\n",
        "drive.mount('/content/drive')"
      ],
      "execution_count": 86,
      "outputs": [
        {
          "output_type": "stream",
          "text": [
            "Drive already mounted at /content/drive; to attempt to forcibly remount, call drive.mount(\"/content/drive\", force_remount=True).\n"
          ],
          "name": "stdout"
        }
      ]
    },
    {
      "cell_type": "code",
      "metadata": {
        "colab": {
          "base_uri": "https://localhost:8080/"
        },
        "id": "dLbquLucUJd9",
        "outputId": "87114a17-7750-495e-e252-3dac10f3ad1a"
      },
      "source": [
        "sample_size = int(input(\"What sample size will you analyze (max 48000)? \"))"
      ],
      "execution_count": 87,
      "outputs": [
        {
          "output_type": "stream",
          "text": [
            "What sample size will you analyze (max 48000)? 48000\n"
          ],
          "name": "stdout"
        }
      ]
    },
    {
      "cell_type": "code",
      "metadata": {
        "id": "DzlOBaSfF3nw"
      },
      "source": [
        "train_raw = pd.read_parquet(\"/content/drive/MyDrive/NLP/train.parquet\")\n",
        "test_raw = pd.read_parquet(\"/content/drive/MyDrive/NLP/test.parquet\")"
      ],
      "execution_count": 88,
      "outputs": []
    },
    {
      "cell_type": "code",
      "metadata": {
        "id": "diaeA4kn8zJS"
      },
      "source": [
        "train_raw = train_raw.reset_index().drop(['Id'], axis=1)\n",
        "test_raw = test_raw.reset_index().drop(['Id'], axis=1)"
      ],
      "execution_count": null,
      "outputs": []
    },
    {
      "cell_type": "code",
      "metadata": {
        "colab": {
          "base_uri": "https://localhost:8080/",
          "height": 319
        },
        "id": "Asi7kzY2JSAT",
        "outputId": "123149df-29f0-406e-d975-595a9d546263"
      },
      "source": [
        "train_raw.head()"
      ],
      "execution_count": 89,
      "outputs": [
        {
          "output_type": "execute_result",
          "data": {
            "text/html": [
              "<div>\n",
              "<style scoped>\n",
              "    .dataframe tbody tr th:only-of-type {\n",
              "        vertical-align: middle;\n",
              "    }\n",
              "\n",
              "    .dataframe tbody tr th {\n",
              "        vertical-align: top;\n",
              "    }\n",
              "\n",
              "    .dataframe thead th {\n",
              "        text-align: right;\n",
              "    }\n",
              "</style>\n",
              "<table border=\"1\" class=\"dataframe\">\n",
              "  <thead>\n",
              "    <tr style=\"text-align: right;\">\n",
              "      <th></th>\n",
              "      <th>Body</th>\n",
              "      <th>Tags</th>\n",
              "      <th>Title</th>\n",
              "      <th>target</th>\n",
              "    </tr>\n",
              "    <tr>\n",
              "      <th>Id</th>\n",
              "      <th></th>\n",
              "      <th></th>\n",
              "      <th></th>\n",
              "      <th></th>\n",
              "    </tr>\n",
              "  </thead>\n",
              "  <tbody>\n",
              "    <tr>\n",
              "      <th>34862324</th>\n",
              "      <td>Algorithmm:\\r\\n\\r\\n**input :** Graph G\\r\\n\\r\\n...</td>\n",
              "      <td>&lt;java&gt;&lt;algorithm&gt;&lt;graph-algorithm&gt;</td>\n",
              "      <td>I am implementing a Minimum Spanning Forrest a...</td>\n",
              "      <td>2</td>\n",
              "    </tr>\n",
              "    <tr>\n",
              "      <th>47303682</th>\n",
              "      <td>While converting the data frame to HTML, Date ...</td>\n",
              "      <td>&lt;html&gt;&lt;r&gt;&lt;dataframe&gt;</td>\n",
              "      <td>R Studio: Date is getting converted to number,...</td>\n",
              "      <td>2</td>\n",
              "    </tr>\n",
              "    <tr>\n",
              "      <th>46431243</th>\n",
              "      <td>&lt;p&gt;This should be an easy one, but somehow I c...</td>\n",
              "      <td>&lt;python&gt;&lt;pandas&gt;&lt;dataframe&gt;&lt;pandas-groupby&gt;</td>\n",
              "      <td>Pandas - dataframe groupby - how to get sum of...</td>\n",
              "      <td>0</td>\n",
              "    </tr>\n",
              "    <tr>\n",
              "      <th>45306324</th>\n",
              "      <td>&lt;p&gt;Let say I have a component in Angular 2 tha...</td>\n",
              "      <td>&lt;angular&gt;&lt;typescript&gt;&lt;rxjs&gt;</td>\n",
              "      <td>Casting results from Observable.forkJoin to th...</td>\n",
              "      <td>0</td>\n",
              "    </tr>\n",
              "    <tr>\n",
              "      <th>49479547</th>\n",
              "      <td>&lt;p&gt;I'm setting a var using \\n&lt;code&gt;set TEST_VA...</td>\n",
              "      <td>&lt;c&gt;&lt;windows&gt;&lt;batch-file&gt;</td>\n",
              "      <td>Environment variable set in batch file cannot ...</td>\n",
              "      <td>1</td>\n",
              "    </tr>\n",
              "  </tbody>\n",
              "</table>\n",
              "</div>"
            ],
            "text/plain": [
              "                                                       Body  ... target\n",
              "Id                                                           ...       \n",
              "34862324  Algorithmm:\\r\\n\\r\\n**input :** Graph G\\r\\n\\r\\n...  ...      2\n",
              "47303682  While converting the data frame to HTML, Date ...  ...      2\n",
              "46431243  <p>This should be an easy one, but somehow I c...  ...      0\n",
              "45306324  <p>Let say I have a component in Angular 2 tha...  ...      0\n",
              "49479547  <p>I'm setting a var using \\n<code>set TEST_VA...  ...      1\n",
              "\n",
              "[5 rows x 4 columns]"
            ]
          },
          "metadata": {
            "tags": []
          },
          "execution_count": 89
        }
      ]
    },
    {
      "cell_type": "markdown",
      "metadata": {
        "id": "q98oKyfmlJJi"
      },
      "source": [
        "## EDA"
      ]
    },
    {
      "cell_type": "markdown",
      "metadata": {
        "id": "KVMxgS05JSAU"
      },
      "source": [
        "### Preprocessing"
      ]
    },
    {
      "cell_type": "markdown",
      "metadata": {
        "id": "qycX2kJLrZrG"
      },
      "source": [
        "Процедуры предобработки и создания новых фич, из интересных реализован определение частей речи с помощью возможностей nltk."
      ]
    },
    {
      "cell_type": "code",
      "metadata": {
        "id": "0vlI-rJZJSAV"
      },
      "source": [
        "def preprocess_sentence(text):\n",
        "    soup = BeautifulSoup(text, \"lxml\")\n",
        "    text = soup.get_text()\n",
        "\n",
        "    text = ''.join([sym for sym in text if sym not in (string.punctuation + string.digits)])\n",
        "    text = text.lower().strip()\n",
        "\n",
        "    lemmatizer = WordNetLemmatizer()\n",
        "    stop_words = stopwords.words('english')\n",
        "    word_tokens = word_tokenize(text)\n",
        "    filtered_sentence = ' '.join([lemmatizer.lemmatize(w) for w in word_tokens if w not in stop_words])\n",
        "    return filtered_sentence"
      ],
      "execution_count": 76,
      "outputs": []
    },
    {
      "cell_type": "code",
      "metadata": {
        "id": "OXLWUIBrPpfo"
      },
      "source": [
        "def preprocessing(data):\n",
        "  data['Tags'] = data.Tags.apply(lambda x: x.replace('<', '').replace('>', ' ').strip())\n",
        "\n",
        "  data['Text'] = data.Title + \" \" + data.Body\n",
        "  data['Text'] = data.Text.apply(preprocess_sentence)\n",
        "\n",
        "  data.drop(columns=['Body', 'Title'], inplace=True)\n",
        "  return data"
      ],
      "execution_count": 77,
      "outputs": []
    },
    {
      "cell_type": "code",
      "metadata": {
        "id": "7vknQtBbl3a0"
      },
      "source": [
        "def create_new_features(df):\n",
        "  # Number of words in the text \n",
        "  df[\"count_words\"] = df.Text.apply(lambda x: len(x.split()))\n",
        "  # Number of unique words in the text \n",
        "  df[\"count_unique_word\"] = df.Text.apply(lambda x: len(set(x.split())))\n",
        "  # Number of stopwords in the text \n",
        "  df[\"count_stopwords\"] = df.Text.apply(lambda x: len([word for word in x.split() if word in STOPWORDS]))\n",
        "  # Average length of the words in the text \n",
        "  df[\"mean_word_len\"] = df.Text.apply(lambda x: np.mean([len(word) for word in x.split()]))\n",
        "  # Number of tags\n",
        "  df[\"count_tags\"] = df.Tags.apply(lambda x: len(x.split()))\n",
        "  # Number of tags in the text, how much it matches the given theme\n",
        "  df[\"number_tags_in_text\"] = [len(set(df.Tags[i].split()) & set(df.Text[i].split())) for i in range(len(df))]\n",
        "  # Percent of noun in the text\n",
        "  df[\"percent_noun\"] = df.Text.apply(lambda x: len([word for word in x.split() if nltk.pos_tag([word])[0][1] == 'NN'])/len(x.split()))\n",
        "  # Percent of verb in the text\n",
        "  df[\"percent_verb\"] = df.Text.apply(lambda x: len([word for word in x.split() if nltk.pos_tag([word])[0][1] == 'VB'])/len(x.split()))\n",
        "  # Percent of adjective in the text\n",
        "  df[\"percent_adj\"] = df.Text.apply(lambda x: len([word for word in x.split() if nltk.pos_tag([word])[0][1] == 'JJ'])/len(x.split()))\n",
        "  return df"
      ],
      "execution_count": null,
      "outputs": []
    },
    {
      "cell_type": "code",
      "metadata": {
        "id": "k8QsigdZUA8Y"
      },
      "source": [
        "def preparation_data(data):\n",
        "  data = preprocessing(data)\n",
        "  #data = create_new_features(data)\n",
        "  print(f'В данных {data.isna().sum().sum()} пустых данных. Добавлены новые столбцы теперь их {len(data.columns)}.')\n",
        "  return data"
      ],
      "execution_count": 90,
      "outputs": []
    },
    {
      "cell_type": "markdown",
      "metadata": {
        "id": "UETC2pQirgoE"
      },
      "source": [
        "Сохраним полученные данные, чтоб в последствии не ждать, а использовать уже готовое"
      ]
    },
    {
      "cell_type": "code",
      "metadata": {
        "id": "vZ7lSb1WWM6C",
        "colab": {
          "base_uri": "https://localhost:8080/"
        },
        "outputId": "fed3974e-1a36-46e3-cab4-4b4b3bdd88e4"
      },
      "source": [
        "preprocessed_train = preparation_data(train_raw)\n",
        "preprocessed_test = preparation_data(test_raw)\n",
        "preprocessed_train.to_csv('/content/drive/MyDrive/NLP/processed_train_final.csv', index=False)\n",
        "preprocessed_test.to_csv('/content/drive/MyDrive/NLP/processed_test_final.csv', index=False)"
      ],
      "execution_count": 91,
      "outputs": [
        {
          "output_type": "stream",
          "text": [
            "В данных 0 пустных данных. Добавлены новые столбцы теперь их 3.\n",
            "В данных 0 пустных данных. Добавлены новые столбцы теперь их 2.\n"
          ],
          "name": "stdout"
        }
      ]
    },
    {
      "cell_type": "markdown",
      "metadata": {
        "id": "ga57e3RoWOSI"
      },
      "source": [
        "### Сharts and graph"
      ]
    },
    {
      "cell_type": "code",
      "metadata": {
        "id": "QNNYeaDzmpGL"
      },
      "source": [
        "df_train = pd.read_csv(\"/content/drive/MyDrive/NLP/processed_train.csv\")\n",
        "df_test = pd.read_csv(\"/content/drive/MyDrive/NLP/processed_test.csv\")"
      ],
      "execution_count": null,
      "outputs": []
    },
    {
      "cell_type": "code",
      "metadata": {
        "colab": {
          "base_uri": "https://localhost:8080/",
          "height": 447
        },
        "id": "QKU_s_XFMsPq",
        "outputId": "3646f5b8-a7bc-4bc5-e806-b8474a89ab14"
      },
      "source": [
        "df_train.head()"
      ],
      "execution_count": null,
      "outputs": [
        {
          "output_type": "execute_result",
          "data": {
            "text/html": [
              "<div>\n",
              "<style scoped>\n",
              "    .dataframe tbody tr th:only-of-type {\n",
              "        vertical-align: middle;\n",
              "    }\n",
              "\n",
              "    .dataframe tbody tr th {\n",
              "        vertical-align: top;\n",
              "    }\n",
              "\n",
              "    .dataframe thead th {\n",
              "        text-align: right;\n",
              "    }\n",
              "</style>\n",
              "<table border=\"1\" class=\"dataframe\">\n",
              "  <thead>\n",
              "    <tr style=\"text-align: right;\">\n",
              "      <th></th>\n",
              "      <th>Tags</th>\n",
              "      <th>target</th>\n",
              "      <th>Text</th>\n",
              "      <th>count_words</th>\n",
              "      <th>count_unique_word</th>\n",
              "      <th>count_stopwords</th>\n",
              "      <th>mean_word_len</th>\n",
              "      <th>count_tags</th>\n",
              "      <th>number_tags_in_text</th>\n",
              "      <th>percent_noun</th>\n",
              "      <th>percent_verb</th>\n",
              "      <th>percent_adj</th>\n",
              "    </tr>\n",
              "  </thead>\n",
              "  <tbody>\n",
              "    <tr>\n",
              "      <th>0</th>\n",
              "      <td>java algorithm graph-algorithm</td>\n",
              "      <td>2</td>\n",
              "      <td>implementing minimum spanning forrest algorihm...</td>\n",
              "      <td>62</td>\n",
              "      <td>45</td>\n",
              "      <td>0</td>\n",
              "      <td>4.709677</td>\n",
              "      <td>3</td>\n",
              "      <td>1</td>\n",
              "      <td>0.774194</td>\n",
              "      <td>0.048387</td>\n",
              "      <td>0.032258</td>\n",
              "    </tr>\n",
              "    <tr>\n",
              "      <th>1</th>\n",
              "      <td>html r dataframe</td>\n",
              "      <td>2</td>\n",
              "      <td>r studio date getting converted number making ...</td>\n",
              "      <td>19</td>\n",
              "      <td>13</td>\n",
              "      <td>1</td>\n",
              "      <td>5.736842</td>\n",
              "      <td>3</td>\n",
              "      <td>2</td>\n",
              "      <td>0.578947</td>\n",
              "      <td>0.052632</td>\n",
              "      <td>0.000000</td>\n",
              "    </tr>\n",
              "    <tr>\n",
              "      <th>2</th>\n",
              "      <td>python pandas dataframe pandas-groupby</td>\n",
              "      <td>0</td>\n",
              "      <td>panda dataframe groupby get sum multiple colum...</td>\n",
              "      <td>95</td>\n",
              "      <td>52</td>\n",
              "      <td>6</td>\n",
              "      <td>4.431579</td>\n",
              "      <td>4</td>\n",
              "      <td>1</td>\n",
              "      <td>0.747368</td>\n",
              "      <td>0.031579</td>\n",
              "      <td>0.021053</td>\n",
              "    </tr>\n",
              "    <tr>\n",
              "      <th>3</th>\n",
              "      <td>angular typescript rxjs</td>\n",
              "      <td>0</td>\n",
              "      <td>casting result observableforkjoin respective t...</td>\n",
              "      <td>110</td>\n",
              "      <td>73</td>\n",
              "      <td>3</td>\n",
              "      <td>8.936364</td>\n",
              "      <td>3</td>\n",
              "      <td>2</td>\n",
              "      <td>0.627273</td>\n",
              "      <td>0.045455</td>\n",
              "      <td>0.045455</td>\n",
              "    </tr>\n",
              "    <tr>\n",
              "      <th>4</th>\n",
              "      <td>c windows batch-file</td>\n",
              "      <td>1</td>\n",
              "      <td>environment variable set batch file accessed c...</td>\n",
              "      <td>26</td>\n",
              "      <td>19</td>\n",
              "      <td>0</td>\n",
              "      <td>5.576923</td>\n",
              "      <td>3</td>\n",
              "      <td>1</td>\n",
              "      <td>0.615385</td>\n",
              "      <td>0.000000</td>\n",
              "      <td>0.115385</td>\n",
              "    </tr>\n",
              "  </tbody>\n",
              "</table>\n",
              "</div>"
            ],
            "text/plain": [
              "                                     Tags  target  ... percent_verb  percent_adj\n",
              "0          java algorithm graph-algorithm       2  ...     0.048387     0.032258\n",
              "1                        html r dataframe       2  ...     0.052632     0.000000\n",
              "2  python pandas dataframe pandas-groupby       0  ...     0.031579     0.021053\n",
              "3                 angular typescript rxjs       0  ...     0.045455     0.045455\n",
              "4                    c windows batch-file       1  ...     0.000000     0.115385\n",
              "\n",
              "[5 rows x 12 columns]"
            ]
          },
          "metadata": {
            "tags": []
          },
          "execution_count": 12
        }
      ]
    },
    {
      "cell_type": "code",
      "metadata": {
        "colab": {
          "base_uri": "https://localhost:8080/"
        },
        "id": "_rfViuh0fxgD",
        "outputId": "aeda216b-1d39-4416-e538-83cd037d5a4d"
      },
      "source": [
        "df_train['target'].value_counts()"
      ],
      "execution_count": null,
      "outputs": [
        {
          "output_type": "execute_result",
          "data": {
            "text/plain": [
              "2    16000\n",
              "1    16000\n",
              "0    16000\n",
              "Name: target, dtype: int64"
            ]
          },
          "metadata": {
            "tags": []
          },
          "execution_count": 13
        }
      ]
    },
    {
      "cell_type": "markdown",
      "metadata": {
        "id": "nsXAxGDrrqmC"
      },
      "source": [
        "Целевая переменная распределена равномерно"
      ]
    },
    {
      "cell_type": "code",
      "metadata": {
        "id": "WzHRxQmql3hQ"
      },
      "source": [
        "def most_popular_tags_by_class(df, class_number):\n",
        "  all_tags_list = [tag for tags in df.Tags.loc[df.target == class_number] for tag in tags.split(' ')]\n",
        "  count_tags = Counter(all_tags_list)\n",
        "  count_tags_df = pd.DataFrame(count_tags.most_common(15))\n",
        "  count_tags_df.columns = ['word','count']\n",
        "  return count_tags_df\n",
        "\n",
        "\n",
        "def color_change(df):\n",
        "  color_df = df.apply(lambda x: 'purple' if x>1000 else 'blue')\n",
        "  return list(color_df)\n",
        "\n",
        "def plot_subplot_popular_tags(df):\n",
        "  count_class = df['target'].nunique()\n",
        "  fig, axs = plt.subplots(3, 1, figsize=(count_class*5, count_class*4))\n",
        "  for class_type in range(count_class):\n",
        "    df_tags = most_popular_tags_by_class(df, class_type)\n",
        "    axs[class_type].bar(df_tags['word'], df_tags['count'], color=color_change(df_tags['count']))\n",
        "    axs[class_type].set_ylabel('Count')\n",
        "    axs[class_type].set_title(f'Most common words in class {class_type_encoding.get(class_type)}')\n",
        "  plt.show()"
      ],
      "execution_count": null,
      "outputs": []
    },
    {
      "cell_type": "markdown",
      "metadata": {
        "id": "mjrboBvrrv2q"
      },
      "source": [
        "График наиболее популярных тегов, распределенный по целевой переменной и выделены все теги с частотой больше 1000"
      ]
    },
    {
      "cell_type": "code",
      "metadata": {
        "colab": {
          "base_uri": "https://localhost:8080/",
          "height": 685
        },
        "id": "zGmvvfQil3se",
        "outputId": "e77d23b3-693f-4f05-dbf8-f66374d3924e"
      },
      "source": [
        "plot_subplot_popular_tags(df_train)"
      ],
      "execution_count": null,
      "outputs": [
        {
          "output_type": "display_data",
          "data": {
            "image/png": "[encoded data removed]",
            "text/plain": [
              "<Figure size 1080x864 with 3 Axes>"
            ]
          },
          "metadata": {
            "tags": [],
            "needs_background": "light"
          }
        }
      ]
    },
    {
      "cell_type": "markdown",
      "metadata": {
        "id": "hCNWUfNWr6HJ"
      },
      "source": [
        "Исходя из этих графиков можно сказать, что хоть классы и разные, самые популярные теги в них повторяются. Единственное в HQ более выражены лидеры, а в LQ распределение более плавное"
      ]
    },
    {
      "cell_type": "code",
      "metadata": {
        "colab": {
          "base_uri": "https://localhost:8080/",
          "height": 441
        },
        "id": "Nuk3Ahtol3ku",
        "outputId": "40083485-760d-4b3a-8155-1b905c93174c"
      },
      "source": [
        "wordcloud = WordCloud(max_words=800, width=1500, height=1000).generate(str(df_train.Text.values))\n",
        "plt.figure(figsize=(10,10))\n",
        "plt.imshow(wordcloud, interpolation='bilinear')"
      ],
      "execution_count": null,
      "outputs": [
        {
          "output_type": "execute_result",
          "data": {
            "text/plain": [
              "<matplotlib.image.AxesImage at 0x7f81ee371208>"
            ]
          },
          "metadata": {
            "tags": []
          },
          "execution_count": 16
        },
        {
          "output_type": "display_data",
          "data": {
            "image/png": "[encoded data removed]",
            "text/plain": [
              "<Figure size 720x720 with 1 Axes>"
            ]
          },
          "metadata": {
            "tags": [],
            "needs_background": "light"
          }
        }
      ]
    },
    {
      "cell_type": "markdown",
      "metadata": {
        "id": "YU-086kVsRF7"
      },
      "source": [
        "Облако слов, построенное на данных из текста, ожидалось, что самыми встречающимися словами буду различные зарегистрированные слова в языках, которые чаще всего встречались в тегах, но получилось что это слова из часто используемых технологий в данных языках.\n"
      ]
    },
    {
      "cell_type": "code",
      "metadata": {
        "colab": {
          "base_uri": "https://localhost:8080/",
          "height": 310
        },
        "id": "c4xxbw98JSAV",
        "outputId": "6c737484-d33e-4616-fa4b-298ecbca727c"
      },
      "source": [
        "text = df_train['Text'].str.cat(sep=' ')\n",
        "words = nltk.tokenize.word_tokenize(text)\n",
        "word_dist = nltk.FreqDist(words)\n",
        "word_dist.plot(30, cumulative=False)"
      ],
      "execution_count": null,
      "outputs": [
        {
          "output_type": "display_data",
          "data": {
            "image/png": "[encoded data removed]",
            "text/plain": [
              "<Figure size 432x288 with 1 Axes>"
            ]
          },
          "metadata": {
            "tags": [],
            "needs_background": "light"
          }
        }
      ]
    },
    {
      "cell_type": "markdown",
      "metadata": {
        "id": "vbBYZsE0suBg"
      },
      "source": [
        "Слова из текста но уже с распределением по количеству. Не удивительно самое популярные слова: code и error, куда же без нее, когда сайт создан для помощи исправления ОШИБОК в КОДЕ."
      ]
    },
    {
      "cell_type": "markdown",
      "metadata": {
        "id": "MVTxQsNstM-c"
      },
      "source": [
        "Попробуем изобразить с помощью кластеризации наши классы, используя только новосозданные фичи."
      ]
    },
    {
      "cell_type": "code",
      "metadata": {
        "id": "f58toyDc1bm-"
      },
      "source": [
        "train_without_text = df_train.copy()\n",
        "train_without_text.drop(columns=['Text', 'Tags'], inplace=True)\n",
        "train_Y_without_text = train_without_text['target']\n",
        "train_X_without_text = train_without_text.drop('target', axis=1)"
      ],
      "execution_count": null,
      "outputs": []
    },
    {
      "cell_type": "code",
      "metadata": {
        "id": "27dPmFHHRQiU"
      },
      "source": [
        "pca = PCA(n_components=2)\n",
        "pca.fit(train_X_without_text)\n",
        "train_X_pca_without_text = pca.transform(train_X_without_text)"
      ],
      "execution_count": null,
      "outputs": []
    },
    {
      "cell_type": "code",
      "metadata": {
        "colab": {
          "base_uri": "https://localhost:8080/",
          "height": 283
        },
        "id": "z8sIXlodRvQp",
        "outputId": "cd0ff0fd-1bae-4328-f660-79e0e060f597"
      },
      "source": [
        "colors = {0: 'r', 1: 'b', 2: 'g'}\n",
        "plt.scatter(train_X_pca_without_text[:,0], train_X_pca_without_text[:,1], color=train_Y_without_text.map(colors))"
      ],
      "execution_count": null,
      "outputs": [
        {
          "output_type": "execute_result",
          "data": {
            "text/plain": [
              "<matplotlib.collections.PathCollection at 0x7f81dededf60>"
            ]
          },
          "metadata": {
            "tags": []
          },
          "execution_count": 20
        },
        {
          "output_type": "display_data",
          "data": {
            "image/png": "[encoded data removed]",
            "text/plain": [
              "<Figure size 432x288 with 1 Axes>"
            ]
          },
          "metadata": {
            "tags": [],
            "needs_background": "light"
          }
        }
      ]
    },
    {
      "cell_type": "markdown",
      "metadata": {
        "id": "FaqD1_gvTILB"
      },
      "source": [
        "Как можно заметить каких либо сформировавшихся групп нет, а значит только числовые параметры не дают адекватных результатов. Нужно конечно же использовать анализ текста"
      ]
    },
    {
      "cell_type": "markdown",
      "metadata": {
        "id": "LSR4ra-lTteX"
      },
      "source": [
        "## Embeddings\n"
      ]
    },
    {
      "cell_type": "markdown",
      "metadata": {
        "id": "DFykxSa1hlEP"
      },
      "source": [
        "### Preparation full data"
      ]
    },
    {
      "cell_type": "code",
      "metadata": {
        "id": "QhOqBqG4ppu1"
      },
      "source": [
        "df_train = pd.read_csv(\"/content/drive/MyDrive/NLP/processed_train.csv\")\n",
        "df_test = pd.read_csv(\"/content/drive/MyDrive/NLP/processed_test.csv\")"
      ],
      "execution_count": 18,
      "outputs": []
    },
    {
      "cell_type": "code",
      "metadata": {
        "id": "OyPinSXTJcE8"
      },
      "source": [
        "df_train = df_train[:sample_size]\n",
        "df_test = df_test[:sample_size//5]"
      ],
      "execution_count": 19,
      "outputs": []
    },
    {
      "cell_type": "code",
      "metadata": {
        "colab": {
          "base_uri": "https://localhost:8080/",
          "height": 202
        },
        "id": "7kXrkR0bhrXc",
        "outputId": "41f85f8f-55b1-4ce4-d51c-6945e198feb8"
      },
      "source": [
        "train = df_train[['Text', 'Tags', 'target']]\n",
        "test = df_test[['Text', 'Tags']]\n",
        "train['Text'] = df_train['Text'] + \" \" + df_train['Tags']\n",
        "test['Text'] = df_test['Text'] + \" \" + df_test['Tags']\n",
        "train = train.drop(['Tags'], axis=1)\n",
        "test = test.drop(['Tags'], axis=1)\n",
        "full_data = pd.concat([train, test], ignore_index=True)\n",
        "train.head()"
      ],
      "execution_count": 20,
      "outputs": [
        {
          "output_type": "execute_result",
          "data": {
            "text/html": [
              "<div>\n",
              "<style scoped>\n",
              "    .dataframe tbody tr th:only-of-type {\n",
              "        vertical-align: middle;\n",
              "    }\n",
              "\n",
              "    .dataframe tbody tr th {\n",
              "        vertical-align: top;\n",
              "    }\n",
              "\n",
              "    .dataframe thead th {\n",
              "        text-align: right;\n",
              "    }\n",
              "</style>\n",
              "<table border=\"1\" class=\"dataframe\">\n",
              "  <thead>\n",
              "    <tr style=\"text-align: right;\">\n",
              "      <th></th>\n",
              "      <th>Text</th>\n",
              "      <th>target</th>\n",
              "    </tr>\n",
              "  </thead>\n",
              "  <tbody>\n",
              "    <tr>\n",
              "      <th>0</th>\n",
              "      <td>implementing minimum spanning forrest algorihm...</td>\n",
              "      <td>2</td>\n",
              "    </tr>\n",
              "    <tr>\n",
              "      <th>1</th>\n",
              "      <td>r studio date getting converted number making ...</td>\n",
              "      <td>2</td>\n",
              "    </tr>\n",
              "    <tr>\n",
              "      <th>2</th>\n",
              "      <td>panda dataframe groupby get sum multiple colum...</td>\n",
              "      <td>0</td>\n",
              "    </tr>\n",
              "    <tr>\n",
              "      <th>3</th>\n",
              "      <td>casting result observableforkjoin respective t...</td>\n",
              "      <td>0</td>\n",
              "    </tr>\n",
              "    <tr>\n",
              "      <th>4</th>\n",
              "      <td>environment variable set batch file accessed c...</td>\n",
              "      <td>1</td>\n",
              "    </tr>\n",
              "  </tbody>\n",
              "</table>\n",
              "</div>"
            ],
            "text/plain": [
              "                                                Text  target\n",
              "0  implementing minimum spanning forrest algorihm...       2\n",
              "1  r studio date getting converted number making ...       2\n",
              "2  panda dataframe groupby get sum multiple colum...       0\n",
              "3  casting result observableforkjoin respective t...       0\n",
              "4  environment variable set batch file accessed c...       1"
            ]
          },
          "metadata": {
            "tags": []
          },
          "execution_count": 20
        }
      ]
    },
    {
      "cell_type": "markdown",
      "metadata": {
        "id": "5Su6De3At1gf"
      },
      "source": [
        "Теперь создадим вектора, используя различные методы"
      ]
    },
    {
      "cell_type": "markdown",
      "metadata": {
        "id": "hSHrv1oGl7dg"
      },
      "source": [
        "### OneHotEncoding"
      ]
    },
    {
      "cell_type": "code",
      "metadata": {
        "id": "yhikgp1YmBLD"
      },
      "source": [
        "vectorizer = CountVectorizer()\n",
        "one_hot_vectorized = vectorizer.fit_transform(train.Text)"
      ],
      "execution_count": 21,
      "outputs": []
    },
    {
      "cell_type": "markdown",
      "metadata": {
        "id": "wcvi29QannPX"
      },
      "source": [
        "### TF-IDF"
      ]
    },
    {
      "cell_type": "code",
      "metadata": {
        "id": "prNigO6onrx3"
      },
      "source": [
        "tf_idf = TfidfVectorizer()\n",
        "train_tf_idf_vectors = tf_idf.fit_transform(train.Text) "
      ],
      "execution_count": 22,
      "outputs": []
    },
    {
      "cell_type": "markdown",
      "metadata": {
        "id": "ym3se6UwdHeV"
      },
      "source": [
        "### FastText"
      ]
    },
    {
      "cell_type": "markdown",
      "metadata": {
        "id": "zYo9FHsKy4B5"
      },
      "source": [
        "#### Functions"
      ]
    },
    {
      "cell_type": "code",
      "metadata": {
        "id": "IhMG0l8EYYun"
      },
      "source": [
        "def get_fasttext_vectors(corpus, model):    \n",
        "    \n",
        "    def get_vector(sentence):   \n",
        "        vector = 0\n",
        "        for w in sentence:\n",
        "            try: \n",
        "                vector += model.wv[w]\n",
        "            except:\n",
        "                continue\n",
        "        return vector\n",
        "    \n",
        "    out_corpus = np.stack(corpus.apply(lambda x: get_vector(x)).to_numpy())\n",
        "    \n",
        "    return out_corpus"
      ],
      "execution_count": 23,
      "outputs": []
    },
    {
      "cell_type": "markdown",
      "metadata": {
        "id": "rM6C--RAl0mi"
      },
      "source": [
        "#### Pretrained"
      ]
    },
    {
      "cell_type": "markdown",
      "metadata": {
        "id": "o-TfA5_It6U1"
      },
      "source": [
        "Используется модель с [официального сайта](https://fasttext.cc/docs/en/english-vectors.html). Для исправления ошибки с переполнением RAM будем удалять модель после использования."
      ]
    },
    {
      "cell_type": "code",
      "metadata": {
        "id": "gJ3vbIFo2_kP"
      },
      "source": [
        "pretrained_fasttext = KeyedVectors.load_word2vec_format(\"/content/drive/MyDrive/NLP/models/wiki-news-300d-1M.vec\")"
      ],
      "execution_count": 24,
      "outputs": []
    },
    {
      "cell_type": "code",
      "metadata": {
        "id": "yTdjc14Do_F-"
      },
      "source": [
        "train_fasttext_vectors = get_fasttext_vectors(train.Text, pretrained_fasttext)\n",
        "del pretrained_fasttext"
      ],
      "execution_count": 25,
      "outputs": []
    },
    {
      "cell_type": "markdown",
      "metadata": {
        "id": "nkRKdONZlZtP"
      },
      "source": [
        "#### Our own"
      ]
    },
    {
      "cell_type": "code",
      "metadata": {
        "id": "zGfIrt_qD_Q9",
        "colab": {
          "base_uri": "https://localhost:8080/"
        },
        "outputId": "8831514e-5e8e-4261-fe7f-564fccf26c3f"
      },
      "source": [
        "own_fasttext = FastText(size=300)\n",
        "fasttext_sentence = full_data.Text\n",
        "own_fasttext.build_vocab(sentences=fasttext_sentence)\n",
        "own_fasttext.train(sentences=fasttext_sentence, \n",
        "                          epochs=own_fasttext.epochs,\n",
        "                          total_examples=own_fasttext.corpus_count, \n",
        "                          total_words=own_fasttext.corpus_total_words)\n",
        "print(own_fasttext)"
      ],
      "execution_count": 26,
      "outputs": [
        {
          "output_type": "stream",
          "text": [
            "FastText(vocab=256, size=300, alpha=0.025)\n"
          ],
          "name": "stdout"
        }
      ]
    },
    {
      "cell_type": "code",
      "metadata": {
        "id": "Dea_MAkPanmM"
      },
      "source": [
        "train_own_fasttext_vectors = get_fasttext_vectors(train.Text, own_fasttext)\n",
        "del own_fasttext"
      ],
      "execution_count": 27,
      "outputs": []
    },
    {
      "cell_type": "markdown",
      "metadata": {
        "id": "dtubb-XVp_Fu"
      },
      "source": [
        "### Word2Vec"
      ]
    },
    {
      "cell_type": "markdown",
      "metadata": {
        "id": "Bt_U4bFOyzOZ"
      },
      "source": [
        "#### Functions"
      ]
    },
    {
      "cell_type": "code",
      "metadata": {
        "id": "JRKBOLtKD7wn"
      },
      "source": [
        "def word2vec_sentence(df, model):\n",
        "  list_word2vec = []\n",
        "  for index, row in pd.DataFrame(df).iterrows():\n",
        "     model_vector = (np.mean([model[token] for token in row['Text']], axis=0)).tolist()\n",
        "     list_word2vec.append(model_vector)\n",
        "  return np.array(list_word2vec)"
      ],
      "execution_count": 28,
      "outputs": []
    },
    {
      "cell_type": "code",
      "metadata": {
        "id": "R486GL6C7W-z"
      },
      "source": [
        "def draw_vectors(x, y, radius=10, alpha=0.25, color='blue',\n",
        "                 width=500, height=400, show=True, **kwargs):\n",
        "    if isinstance(color, str): color = [color] * len(x)\n",
        "    data_source = bm.ColumnDataSource({ 'x' : x, 'y' : y, 'color': color, **kwargs })\n",
        "\n",
        "    fig = pl.figure(active_scroll='wheel_zoom', width=width, height=height)\n",
        "    fig.scatter('x', 'y', size=radius, color='color', alpha=alpha, source=data_source)\n",
        "\n",
        "    fig.add_tools(bm.HoverTool(tooltips=[(key, \"@\" + key) for key in kwargs.keys()]))\n",
        "    if show: pl.show(fig)\n",
        "    return fig"
      ],
      "execution_count": 29,
      "outputs": []
    },
    {
      "cell_type": "code",
      "metadata": {
        "id": "gRWFRXAsl6hN"
      },
      "source": [
        "w2v_full_data = train.Text.apply(lambda x: x.split())"
      ],
      "execution_count": 30,
      "outputs": []
    },
    {
      "cell_type": "markdown",
      "metadata": {
        "id": "S7vqVkAMqGSM"
      },
      "source": [
        "#### Pretrained"
      ]
    },
    {
      "cell_type": "code",
      "metadata": {
        "id": "UcEJDNolQ0C8"
      },
      "source": [
        "pretrained_word2vec = KeyedVectors.load_word2vec_format(\"/content/drive/MyDrive/NLP/models/GoogleNews-vectors-negative300.bin\", binary=True)"
      ],
      "execution_count": 10,
      "outputs": []
    },
    {
      "cell_type": "code",
      "metadata": {
        "colab": {
          "base_uri": "https://localhost:8080/"
        },
        "id": "fIFzx0Xnzs_H",
        "outputId": "0b6da4ed-105e-4672-e436-78fb513f69ef"
      },
      "source": [
        "pretrained_word2vec.most_similar(\"code\")"
      ],
      "execution_count": 11,
      "outputs": [
        {
          "output_type": "execute_result",
          "data": {
            "text/plain": [
              "[('codes', 0.7752988338470459),\n",
              " ('Code', 0.5879452228546143),\n",
              " ('Codes', 0.548393189907074),\n",
              " ('Java_byte', 0.5327669382095337),\n",
              " ('refactored', 0.5249555110931396),\n",
              " ('coding', 0.51395183801651),\n",
              " ('decompiled', 0.5040692090988159),\n",
              " ('Ltd._TTI_HKEx', 0.5028575658798218),\n",
              " ('Java_bytecode', 0.5027563571929932),\n",
              " ('GCC_compiler', 0.49278783798217773)]"
            ]
          },
          "metadata": {
            "tags": []
          },
          "execution_count": 11
        }
      ]
    },
    {
      "cell_type": "markdown",
      "metadata": {
        "id": "BaMEAzuIuusa"
      },
      "source": [
        "Почему-то эта модель не имеет большей части слов, изза чего вектора обрезались и было принято решение отказаться от нее, в угоду другим методам."
      ]
    },
    {
      "cell_type": "code",
      "metadata": {
        "id": "EWzZWGWF0lkp"
      },
      "source": [
        "del pretrained_word2vec"
      ],
      "execution_count": 12,
      "outputs": []
    },
    {
      "cell_type": "code",
      "metadata": {
        "id": "l-o-7NTDg5Hm"
      },
      "source": [
        "#word2vec = word2vec_sentence(w2v_full_data, pretrained_word2vec)"
      ],
      "execution_count": 62,
      "outputs": []
    },
    {
      "cell_type": "code",
      "metadata": {
        "id": "wf_DKQpEnqcD"
      },
      "source": [
        "#word2vec.shape"
      ],
      "execution_count": 63,
      "outputs": []
    },
    {
      "cell_type": "markdown",
      "metadata": {
        "id": "pvm9BkmiqM6_"
      },
      "source": [
        "#### Our oun\n"
      ]
    },
    {
      "cell_type": "code",
      "metadata": {
        "id": "CoWgjpNxrhwg"
      },
      "source": [
        "W2V_FILENAME = \"/content/drive/MyDrive/NLP/saved_models/my_word2vec.model\"\n",
        "w2v_model = Word2Vec(sentences=w2v_full_data, size=100, window=5, min_count=1, workers=4).wv\n",
        "w2v_model.save(W2V_FILENAME)"
      ],
      "execution_count": 55,
      "outputs": []
    },
    {
      "cell_type": "code",
      "metadata": {
        "id": "T38GNM8783eH",
        "colab": {
          "base_uri": "https://localhost:8080/"
        },
        "outputId": "f9ae3df2-399b-4790-a7f3-f3fd93242d28"
      },
      "source": [
        "w2v_model.most_similar(\"code\")"
      ],
      "execution_count": 32,
      "outputs": [
        {
          "output_type": "execute_result",
          "data": {
            "text/plain": [
              "[('snippet', 0.8343947529792786),\n",
              " ('here', 0.8127659559249878),\n",
              " ('part', 0.8069972991943359),\n",
              " ('properly', 0.8048858046531677),\n",
              " ('instead', 0.7829577922821045),\n",
              " ('correctly', 0.7792267203330994),\n",
              " ('piece', 0.7774677872657776),\n",
              " ('wrote', 0.7701422572135925),\n",
              " ('program', 0.7566112279891968),\n",
              " ('problem', 0.7552000880241394)]"
            ]
          },
          "metadata": {
            "tags": []
          },
          "execution_count": 32
        }
      ]
    },
    {
      "cell_type": "markdown",
      "metadata": {
        "id": "TYEJtjGnvP2Z"
      },
      "source": [
        "Создадим визуализацию embeddings с помощью bohen"
      ]
    },
    {
      "cell_type": "code",
      "metadata": {
        "id": "mtfwOhLN60HO"
      },
      "source": [
        "words = sorted(w2v_model.vocab.keys(), \n",
        "               key=lambda word: w2v_model.vocab[word].count,\n",
        "               reverse=True)[:1000]\n",
        "word2vec_vectors = np.array([w2v_model.get_vector(vector) for vector in words])"
      ],
      "execution_count": 33,
      "outputs": []
    },
    {
      "cell_type": "code",
      "metadata": {
        "id": "jwQn4GDo7RMB"
      },
      "source": [
        "pca = PCA(n_components=2)\n",
        "pca.fit(word2vec_vectors)\n",
        "word_vectors_pca = pca.transform(word2vec_vectors)\n",
        "word_vectors_pca = (word_vectors_pca - word_vectors_pca.mean(axis=0)) / word_vectors_pca.std(axis=0)"
      ],
      "execution_count": 34,
      "outputs": []
    },
    {
      "cell_type": "code",
      "metadata": {
        "id": "r2bi6FQX7ZL3",
        "colab": {
          "base_uri": "https://localhost:8080/",
          "height": 435
        },
        "outputId": "20a43015-02a4-4918-cd8f-e6ee0ec06ec1"
      },
      "source": [
        "draw_vectors(word_vectors_pca[:, 0], word_vectors_pca[:, 1], token=words)"
      ],
      "execution_count": 35,
      "outputs": [
        {
          "output_type": "display_data",
          "data": {
            "application/javascript": [
              "\n",
              "(function(root) {\n",
              "  function now() {\n",
              "    return new Date();\n",
              "  }\n",
              "\n",
              "  var force = true;\n",
              "\n",
              "  if (typeof root._bokeh_onload_callbacks === \"undefined\" || force === true) {\n",
              "    root._bokeh_onload_callbacks = [];\n",
              "    root._bokeh_is_loading = undefined;\n",
              "  }\n",
              "\n",
              "  var JS_MIME_TYPE = 'application/javascript';\n",
              "  var HTML_MIME_TYPE = 'text/html';\n",
              "  var EXEC_MIME_TYPE = 'application/vnd.bokehjs_exec.v0+json';\n",
              "  var CLASS_NAME = 'output_bokeh rendered_html';\n",
              "\n",
              "  /**\n",
              "   * Render data to the DOM node\n",
              "   */\n",
              "  function render(props, node) {\n",
              "    var script = document.createElement(\"script\");\n",
              "    node.appendChild(script);\n",
              "  }\n",
              "\n",
              "  /**\n",
              "   * Handle when an output is cleared or removed\n",
              "   */\n",
              "  function handleClearOutput(event, handle) {\n",
              "    var cell = handle.cell;\n",
              "\n",
              "    var id = cell.output_area._bokeh_element_id;\n",
              "    var server_id = cell.output_area._bokeh_server_id;\n",
              "    // Clean up Bokeh references\n",
              "    if (id != null && id in Bokeh.index) {\n",
              "      Bokeh.index[id].model.document.clear();\n",
              "      delete Bokeh.index[id];\n",
              "    }\n",
              "\n",
              "    if (server_id !== undefined) {\n",
              "      // Clean up Bokeh references\n",
              "      var cmd = \"from bokeh.io.state import curstate; print(curstate().uuid_to_server['\" + server_id + \"'].get_sessions()[0].document.roots[0]._id)\";\n",
              "      cell.notebook.kernel.execute(cmd, {\n",
              "        iopub: {\n",
              "          output: function(msg) {\n",
              "            var id = msg.content.text.trim();\n",
              "            if (id in Bokeh.index) {\n",
              "              Bokeh.index[id].model.document.clear();\n",
              "              delete Bokeh.index[id];\n",
              "            }\n",
              "          }\n",
              "        }\n",
              "      });\n",
              "      // Destroy server and session\n",
              "      var cmd = \"import bokeh.io.notebook as ion; ion.destroy_server('\" + server_id + \"')\";\n",
              "      cell.notebook.kernel.execute(cmd);\n",
              "    }\n",
              "  }\n",
              "\n",
              "  /**\n",
              "   * Handle when a new output is added\n",
              "   */\n",
              "  function handleAddOutput(event, handle) {\n",
              "    var output_area = handle.output_area;\n",
              "    var output = handle.output;\n",
              "\n",
              "    // limit handleAddOutput to display_data with EXEC_MIME_TYPE content only\n",
              "    if ((output.output_type != \"display_data\") || (!output.data.hasOwnProperty(EXEC_MIME_TYPE))) {\n",
              "      return\n",
              "    }\n",
              "\n",
              "    var toinsert = output_area.element.find(\".\" + CLASS_NAME.split(' ')[0]);\n",
              "\n",
              "    if (output.metadata[EXEC_MIME_TYPE][\"id\"] !== undefined) {\n",
              "      toinsert[toinsert.length - 1].firstChild.textContent = output.data[JS_MIME_TYPE];\n",
              "      // store reference to embed id on output_area\n",
              "      output_area._bokeh_element_id = output.metadata[EXEC_MIME_TYPE][\"id\"];\n",
              "    }\n",
              "    if (output.metadata[EXEC_MIME_TYPE][\"server_id\"] !== undefined) {\n",
              "      var bk_div = document.createElement(\"div\");\n",
              "      bk_div.innerHTML = output.data[HTML_MIME_TYPE];\n",
              "      var script_attrs = bk_div.children[0].attributes;\n",
              "      for (var i = 0; i < script_attrs.length; i++) {\n",
              "        toinsert[toinsert.length - 1].firstChild.setAttribute(script_attrs[i].name, script_attrs[i].value);\n",
              "        toinsert[toinsert.length - 1].firstChild.textContent = bk_div.children[0].textContent\n",
              "      }\n",
              "      // store reference to server id on output_area\n",
              "      output_area._bokeh_server_id = output.metadata[EXEC_MIME_TYPE][\"server_id\"];\n",
              "    }\n",
              "  }\n",
              "\n",
              "  function register_renderer(events, OutputArea) {\n",
              "\n",
              "    function append_mime(data, metadata, element) {\n",
              "      // create a DOM node to render to\n",
              "      var toinsert = this.create_output_subarea(\n",
              "        metadata,\n",
              "        CLASS_NAME,\n",
              "        EXEC_MIME_TYPE\n",
              "      );\n",
              "      this.keyboard_manager.register_events(toinsert);\n",
              "      // Render to node\n",
              "      var props = {data: data, metadata: metadata[EXEC_MIME_TYPE]};\n",
              "      render(props, toinsert[toinsert.length - 1]);\n",
              "      element.append(toinsert);\n",
              "      return toinsert\n",
              "    }\n",
              "\n",
              "    /* Handle when an output is cleared or removed */\n",
              "    events.on('clear_output.CodeCell', handleClearOutput);\n",
              "    events.on('delete.Cell', handleClearOutput);\n",
              "\n",
              "    /* Handle when a new output is added */\n",
              "    events.on('output_added.OutputArea', handleAddOutput);\n",
              "\n",
              "    /**\n",
              "     * Register the mime type and append_mime function with output_area\n",
              "     */\n",
              "    OutputArea.prototype.register_mime_type(EXEC_MIME_TYPE, append_mime, {\n",
              "      /* Is output safe? */\n",
              "      safe: true,\n",
              "      /* Index of renderer in `output_area.display_order` */\n",
              "      index: 0\n",
              "    });\n",
              "  }\n",
              "\n",
              "  // register the mime type if in Jupyter Notebook environment and previously unregistered\n",
              "  if (root.Jupyter !== undefined) {\n",
              "    var events = require('base/js/events');\n",
              "    var OutputArea = require('notebook/js/outputarea').OutputArea;\n",
              "\n",
              "    if (OutputArea.prototype.mime_types().indexOf(EXEC_MIME_TYPE) == -1) {\n",
              "      register_renderer(events, OutputArea);\n",
              "    }\n",
              "  }\n",
              "\n",
              "  \n",
              "  if (typeof (root._bokeh_timeout) === \"undefined\" || force === true) {\n",
              "    root._bokeh_timeout = Date.now() + 5000;\n",
              "    root._bokeh_failed_load = false;\n",
              "  }\n",
              "\n",
              "  var NB_LOAD_WARNING = {'data': {'text/html':\n",
              "     \"<div style='background-color: #fdd'>\\n\"+\n",
              "     \"<p>\\n\"+\n",
              "     \"BokehJS does not appear to have successfully loaded. If loading BokehJS from CDN, this \\n\"+\n",
              "     \"may be due to a slow or bad network connection. Possible fixes:\\n\"+\n",
              "     \"</p>\\n\"+\n",
              "     \"<ul>\\n\"+\n",
              "     \"<li>re-rerun `output_notebook()` to attempt to load from CDN again, or</li>\\n\"+\n",
              "     \"<li>use INLINE resources instead, as so:</li>\\n\"+\n",
              "     \"</ul>\\n\"+\n",
              "     \"<code>\\n\"+\n",
              "     \"from bokeh.resources import INLINE\\n\"+\n",
              "     \"output_notebook(resources=INLINE)\\n\"+\n",
              "     \"</code>\\n\"+\n",
              "     \"</div>\"}};\n",
              "\n",
              "  function display_loaded() {\n",
              "    var el = document.getElementById(null);\n",
              "    if (el != null) {\n",
              "      el.textContent = \"BokehJS is loading...\";\n",
              "    }\n",
              "    if (root.Bokeh !== undefined) {\n",
              "      if (el != null) {\n",
              "        el.textContent = \"BokehJS \" + root.Bokeh.version + \" successfully loaded.\";\n",
              "      }\n",
              "    } else if (Date.now() < root._bokeh_timeout) {\n",
              "      setTimeout(display_loaded, 100)\n",
              "    }\n",
              "  }\n",
              "\n",
              "\n",
              "  function run_callbacks() {\n",
              "    try {\n",
              "      root._bokeh_onload_callbacks.forEach(function(callback) {\n",
              "        if (callback != null)\n",
              "          callback();\n",
              "      });\n",
              "    } finally {\n",
              "      delete root._bokeh_onload_callbacks\n",
              "    }\n",
              "    console.debug(\"Bokeh: all callbacks have finished\");\n",
              "  }\n",
              "\n",
              "  function load_libs(css_urls, js_urls, callback) {\n",
              "    if (css_urls == null) css_urls = [];\n",
              "    if (js_urls == null) js_urls = [];\n",
              "\n",
              "    root._bokeh_onload_callbacks.push(callback);\n",
              "    if (root._bokeh_is_loading > 0) {\n",
              "      console.debug(\"Bokeh: BokehJS is being loaded, scheduling callback at\", now());\n",
              "      return null;\n",
              "    }\n",
              "    if (js_urls == null || js_urls.length === 0) {\n",
              "      run_callbacks();\n",
              "      return null;\n",
              "    }\n",
              "    console.debug(\"Bokeh: BokehJS not loaded, scheduling load and callback at\", now());\n",
              "    root._bokeh_is_loading = css_urls.length + js_urls.length;\n",
              "\n",
              "    function on_load() {\n",
              "      root._bokeh_is_loading--;\n",
              "      if (root._bokeh_is_loading === 0) {\n",
              "        console.debug(\"Bokeh: all BokehJS libraries/stylesheets loaded\");\n",
              "        run_callbacks()\n",
              "      }\n",
              "    }\n",
              "\n",
              "    function on_error() {\n",
              "      console.error(\"failed to load \" + url);\n",
              "    }\n",
              "\n",
              "    for (var i = 0; i < css_urls.length; i++) {\n",
              "      var url = css_urls[i];\n",
              "      const element = document.createElement(\"link\");\n",
              "      element.onload = on_load;\n",
              "      element.onerror = on_error;\n",
              "      element.rel = \"stylesheet\";\n",
              "      element.type = \"text/css\";\n",
              "      element.href = url;\n",
              "      console.debug(\"Bokeh: injecting link tag for BokehJS stylesheet: \", url);\n",
              "      document.body.appendChild(element);\n",
              "    }\n",
              "\n",
              "    const hashes = {\"https://cdn.bokeh.org/bokeh/release/bokeh-2.1.1.min.js\": \"kLr4fYcqcSpbuI95brIH3vnnYCquzzSxHPU6XGQCIkQRGJwhg0StNbj1eegrHs12\", \"https://cdn.bokeh.org/bokeh/release/bokeh-widgets-2.1.1.min.js\": \"xIGPmVtaOm+z0BqfSOMn4lOR6ciex448GIKG4eE61LsAvmGj48XcMQZtKcE/UXZe\", \"https://cdn.bokeh.org/bokeh/release/bokeh-tables-2.1.1.min.js\": \"Dc9u1wF/0zApGIWoBbH77iWEHtdmkuYWG839Uzmv8y8yBLXebjO9ZnERsde5Ln/P\", \"https://cdn.bokeh.org/bokeh/release/bokeh-gl-2.1.1.min.js\": \"cT9JaBz7GiRXdENrJLZNSC6eMNF3nh3fa5fTF51Svp+ukxPdwcU5kGXGPBgDCa2j\"};\n",
              "\n",
              "    for (var i = 0; i < js_urls.length; i++) {\n",
              "      var url = js_urls[i];\n",
              "      var element = document.createElement('script');\n",
              "      element.onload = on_load;\n",
              "      element.onerror = on_error;\n",
              "      element.async = false;\n",
              "      element.src = url;\n",
              "      if (url in hashes) {\n",
              "        element.crossOrigin = \"anonymous\";\n",
              "        element.integrity = \"sha384-\" + hashes[url];\n",
              "      }\n",
              "      console.debug(\"Bokeh: injecting script tag for BokehJS library: \", url);\n",
              "      document.head.appendChild(element);\n",
              "    }\n",
              "  };\n",
              "\n",
              "  function inject_raw_css(css) {\n",
              "    const element = document.createElement(\"style\");\n",
              "    element.appendChild(document.createTextNode(css));\n",
              "    document.body.appendChild(element);\n",
              "  }\n",
              "\n",
              "  \n",
              "  var js_urls = [\"https://cdn.bokeh.org/bokeh/release/bokeh-2.1.1.min.js\", \"https://cdn.bokeh.org/bokeh/release/bokeh-widgets-2.1.1.min.js\", \"https://cdn.bokeh.org/bokeh/release/bokeh-tables-2.1.1.min.js\", \"https://cdn.bokeh.org/bokeh/release/bokeh-gl-2.1.1.min.js\"];\n",
              "  var css_urls = [];\n",
              "  \n",
              "\n",
              "  var inline_js = [\n",
              "    function(Bokeh) {\n",
              "      Bokeh.set_log_level(\"info\");\n",
              "    },\n",
              "    function(Bokeh) {\n",
              "    \n",
              "    \n",
              "    }\n",
              "  ];\n",
              "\n",
              "  function run_inline_js() {\n",
              "    \n",
              "    if (root.Bokeh !== undefined || force === true) {\n",
              "      \n",
              "    for (var i = 0; i < inline_js.length; i++) {\n",
              "      inline_js[i].call(root, root.Bokeh);\n",
              "    }\n",
              "    } else if (Date.now() < root._bokeh_timeout) {\n",
              "      setTimeout(run_inline_js, 100);\n",
              "    } else if (!root._bokeh_failed_load) {\n",
              "      console.log(\"Bokeh: BokehJS failed to load within specified timeout.\");\n",
              "      root._bokeh_failed_load = true;\n",
              "    } else if (force !== true) {\n",
              "      var cell = $(document.getElementById(null)).parents('.cell').data().cell;\n",
              "      cell.output_area.append_execute_result(NB_LOAD_WARNING)\n",
              "    }\n",
              "\n",
              "  }\n",
              "\n",
              "  if (root._bokeh_is_loading === 0) {\n",
              "    console.debug(\"Bokeh: BokehJS loaded, going straight to plotting\");\n",
              "    run_inline_js();\n",
              "  } else {\n",
              "    load_libs(css_urls, js_urls, function() {\n",
              "      console.debug(\"Bokeh: BokehJS plotting callback run at\", now());\n",
              "      run_inline_js();\n",
              "    });\n",
              "  }\n",
              "}(window));"
            ],
            "application/vnd.bokehjs_load.v0+json": "\n(function(root) {\n  function now() {\n    return new Date();\n  }\n\n  var force = true;\n\n  if (typeof root._bokeh_onload_callbacks === \"undefined\" || force === true) {\n    root._bokeh_onload_callbacks = [];\n    root._bokeh_is_loading = undefined;\n  }\n\n  \n\n  \n  if (typeof (root._bokeh_timeout) === \"undefined\" || force === true) {\n    root._bokeh_timeout = Date.now() + 5000;\n    root._bokeh_failed_load = false;\n  }\n\n  var NB_LOAD_WARNING = {'data': {'text/html':\n     \"<div style='background-color: #fdd'>\\n\"+\n     \"<p>\\n\"+\n     \"BokehJS does not appear to have successfully loaded. If loading BokehJS from CDN, this \\n\"+\n     \"may be due to a slow or bad network connection. Possible fixes:\\n\"+\n     \"</p>\\n\"+\n     \"<ul>\\n\"+\n     \"<li>re-rerun `output_notebook()` to attempt to load from CDN again, or</li>\\n\"+\n     \"<li>use INLINE resources instead, as so:</li>\\n\"+\n     \"</ul>\\n\"+\n     \"<code>\\n\"+\n     \"from bokeh.resources import INLINE\\n\"+\n     \"output_notebook(resources=INLINE)\\n\"+\n     \"</code>\\n\"+\n     \"</div>\"}};\n\n  function display_loaded() {\n    var el = document.getElementById(null);\n    if (el != null) {\n      el.textContent = \"BokehJS is loading...\";\n    }\n    if (root.Bokeh !== undefined) {\n      if (el != null) {\n        el.textContent = \"BokehJS \" + root.Bokeh.version + \" successfully loaded.\";\n      }\n    } else if (Date.now() < root._bokeh_timeout) {\n      setTimeout(display_loaded, 100)\n    }\n  }\n\n\n  function run_callbacks() {\n    try {\n      root._bokeh_onload_callbacks.forEach(function(callback) {\n        if (callback != null)\n          callback();\n      });\n    } finally {\n      delete root._bokeh_onload_callbacks\n    }\n    console.debug(\"Bokeh: all callbacks have finished\");\n  }\n\n  function load_libs(css_urls, js_urls, callback) {\n    if (css_urls == null) css_urls = [];\n    if (js_urls == null) js_urls = [];\n\n    root._bokeh_onload_callbacks.push(callback);\n    if (root._bokeh_is_loading > 0) {\n      console.debug(\"Bokeh: BokehJS is being loaded, scheduling callback at\", now());\n      return null;\n    }\n    if (js_urls == null || js_urls.length === 0) {\n      run_callbacks();\n      return null;\n    }\n    console.debug(\"Bokeh: BokehJS not loaded, scheduling load and callback at\", now());\n    root._bokeh_is_loading = css_urls.length + js_urls.length;\n\n    function on_load() {\n      root._bokeh_is_loading--;\n      if (root._bokeh_is_loading === 0) {\n        console.debug(\"Bokeh: all BokehJS libraries/stylesheets loaded\");\n        run_callbacks()\n      }\n    }\n\n    function on_error() {\n      console.error(\"failed to load \" + url);\n    }\n\n    for (var i = 0; i < css_urls.length; i++) {\n      var url = css_urls[i];\n      const element = document.createElement(\"link\");\n      element.onload = on_load;\n      element.onerror = on_error;\n      element.rel = \"stylesheet\";\n      element.type = \"text/css\";\n      element.href = url;\n      console.debug(\"Bokeh: injecting link tag for BokehJS stylesheet: \", url);\n      document.body.appendChild(element);\n    }\n\n    const hashes = {\"https://cdn.bokeh.org/bokeh/release/bokeh-2.1.1.min.js\": \"kLr4fYcqcSpbuI95brIH3vnnYCquzzSxHPU6XGQCIkQRGJwhg0StNbj1eegrHs12\", \"https://cdn.bokeh.org/bokeh/release/bokeh-widgets-2.1.1.min.js\": \"xIGPmVtaOm+z0BqfSOMn4lOR6ciex448GIKG4eE61LsAvmGj48XcMQZtKcE/UXZe\", \"https://cdn.bokeh.org/bokeh/release/bokeh-tables-2.1.1.min.js\": \"Dc9u1wF/0zApGIWoBbH77iWEHtdmkuYWG839Uzmv8y8yBLXebjO9ZnERsde5Ln/P\", \"https://cdn.bokeh.org/bokeh/release/bokeh-gl-2.1.1.min.js\": \"cT9JaBz7GiRXdENrJLZNSC6eMNF3nh3fa5fTF51Svp+ukxPdwcU5kGXGPBgDCa2j\"};\n\n    for (var i = 0; i < js_urls.length; i++) {\n      var url = js_urls[i];\n      var element = document.createElement('script');\n      element.onload = on_load;\n      element.onerror = on_error;\n      element.async = false;\n      element.src = url;\n      if (url in hashes) {\n        element.crossOrigin = \"anonymous\";\n        element.integrity = \"sha384-\" + hashes[url];\n      }\n      console.debug(\"Bokeh: injecting script tag for BokehJS library: \", url);\n      document.head.appendChild(element);\n    }\n  };\n\n  function inject_raw_css(css) {\n    const element = document.createElement(\"style\");\n    element.appendChild(document.createTextNode(css));\n    document.body.appendChild(element);\n  }\n\n  \n  var js_urls = [\"https://cdn.bokeh.org/bokeh/release/bokeh-2.1.1.min.js\", \"https://cdn.bokeh.org/bokeh/release/bokeh-widgets-2.1.1.min.js\", \"https://cdn.bokeh.org/bokeh/release/bokeh-tables-2.1.1.min.js\", \"https://cdn.bokeh.org/bokeh/release/bokeh-gl-2.1.1.min.js\"];\n  var css_urls = [];\n  \n\n  var inline_js = [\n    function(Bokeh) {\n      Bokeh.set_log_level(\"info\");\n    },\n    function(Bokeh) {\n    \n    \n    }\n  ];\n\n  function run_inline_js() {\n    \n    if (root.Bokeh !== undefined || force === true) {\n      \n    for (var i = 0; i < inline_js.length; i++) {\n      inline_js[i].call(root, root.Bokeh);\n    }\n    } else if (Date.now() < root._bokeh_timeout) {\n      setTimeout(run_inline_js, 100);\n    } else if (!root._bokeh_failed_load) {\n      console.log(\"Bokeh: BokehJS failed to load within specified timeout.\");\n      root._bokeh_failed_load = true;\n    } else if (force !== true) {\n      var cell = $(document.getElementById(null)).parents('.cell').data().cell;\n      cell.output_area.append_execute_result(NB_LOAD_WARNING)\n    }\n\n  }\n\n  if (root._bokeh_is_loading === 0) {\n    console.debug(\"Bokeh: BokehJS loaded, going straight to plotting\");\n    run_inline_js();\n  } else {\n    load_libs(css_urls, js_urls, function() {\n      console.debug(\"Bokeh: BokehJS plotting callback run at\", now());\n      run_inline_js();\n    });\n  }\n}(window));"
          },
          "metadata": {
            "tags": []
          }
        },
        {
          "output_type": "display_data",
          "data": {
            "text/html": [
              "\n",
              "\n",
              "\n",
              "\n",
              "\n",
              "\n",
              "  <div class=\"bk-root\" id=\"2c6581f0-ac95-4183-bf98-1b4817baad75\" data-root-id=\"1002\"></div>\n"
            ]
          },
          "metadata": {
            "tags": []
          }
        },
        {
          "output_type": "display_data",
          "data": {
            "application/javascript": [
              "(function(root) {\n",
              "  function embed_document(root) {\n",
              "    \n",
              "  var docs_json = {\"f640e9a5-a18f-43b4-b524-4e95a63f666c\":{\"roots\":{\"references\":[{\"attributes\":{\"below\":[{\"id\":\"1011\"}],\"center\":[{\"id\":\"1014\"},{\"id\":\"1018\"}],\"left\":[{\"id\":\"1015\"}],\"plot_height\":400,\"plot_width\":500,\"renderers\":[{\"id\":\"1036\"}],\"title\":{\"id\":\"1040\"},\"toolbar\":{\"id\":\"1026\"},\"x_range\":{\"id\":\"1003\"},\"x_scale\":{\"id\":\"1007\"},\"y_range\":{\"id\":\"1005\"},\"y_scale\":{\"id\":\"1009\"}},\"id\":\"1002\",\"subtype\":\"Figure\",\"type\":\"Plot\"},{\"attributes\":{},\"id\":\"1012\",\"type\":\"BasicTicker\"},{\"attributes\":{\"formatter\":{\"id\":\"1045\"},\"ticker\":{\"id\":\"1016\"}},\"id\":\"1015\",\"type\":\"LinearAxis\"},{\"attributes\":{},\"id\":\"1047\",\"type\":\"Selection\"},{\"attributes\":{},\"id\":\"1016\",\"type\":\"BasicTicker\"},{\"attributes\":{\"text\":\"\"},\"id\":\"1040\",\"type\":\"Title\"},{\"attributes\":{\"data\":{\"color\":[\"blue\",\"blue\",\"blue\",\"blue\",\"blue\",\"blue\",\"blue\",\"blue\",\"blue\",\"blue\",\"blue\",\"blue\",\"blue\",\"blue\",\"blue\",\"blue\",\"blue\",\"blue\",\"blue\",\"blue\",\"blue\",\"blue\",\"blue\",\"blue\",\"blue\",\"blue\",\"blue\",\"blue\",\"blue\",\"blue\",\"blue\",\"blue\",\"blue\",\"blue\",\"blue\",\"blue\",\"blue\",\"blue\",\"blue\",\"blue\",\"blue\",\"blue\",\"blue\",\"blue\",\"blue\",\"blue\",\"blue\",\"blue\",\"blue\",\"blue\",\"blue\",\"blue\",\"blue\",\"blue\",\"blue\",\"blue\",\"blue\",\"blue\",\"blue\",\"blue\",\"blue\",\"blue\",\"blue\",\"blue\",\"blue\",\"blue\",\"blue\",\"blue\",\"blue\",\"blue\",\"blue\",\"blue\",\"blue\",\"blue\",\"blue\",\"blue\",\"blue\",\"blue\",\"blue\",\"blue\",\"blue\",\"blue\",\"blue\",\"blue\",\"blue\",\"blue\",\"blue\",\"blue\",\"blue\",\"blue\",\"blue\",\"blue\",\"blue\",\"blue\",\"blue\",\"blue\",\"blue\",\"blue\",\"blue\",\"blue\",\"blue\",\"blue\",\"blue\",\"blue\",\"blue\",\"blue\",\"blue\",\"blue\",\"blue\",\"blue\",\"blue\",\"blue\",\"blue\",\"blue\",\"blue\",\"blue\",\"blue\",\"blue\",\"blue\",\"blue\",\"blue\",\"blue\",\"blue\",\"blue\",\"blue\",\"blue\",\"blue\",\"blue\",\"blue\",\"blue\",\"blue\",\"blue\",\"blue\",\"blue\",\"blue\",\"blue\",\"blue\",\"blue\",\"blue\",\"blue\",\"blue\",\"blue\",\"blue\",\"blue\",\"blue\",\"blue\",\"blue\",\"blue\",\"blue\",\"blue\",\"blue\",\"blue\",\"blue\",\"blue\",\"blue\",\"blue\",\"blue\",\"blue\",\"blue\",\"blue\",\"blue\",\"blue\",\"blue\",\"blue\",\"blue\",\"blue\",\"blue\",\"blue\",\"blue\",\"blue\",\"blue\",\"blue\",\"blue\",\"blue\",\"blue\",\"blue\",\"blue\",\"blue\",\"blue\",\"blue\",\"blue\",\"blue\",\"blue\",\"blue\",\"blue\",\"blue\",\"blue\",\"blue\",\"blue\",\"blue\",\"blue\",\"blue\",\"blue\",\"blue\",\"blue\",\"blue\",\"blue\",\"blue\",\"blue\",\"blue\",\"blue\",\"blue\",\"blue\",\"blue\",\"blue\",\"blue\",\"blue\",\"blue\",\"blue\",\"blue\",\"blue\",\"blue\",\"blue\",\"blue\",\"blue\",\"blue\",\"blue\",\"blue\",\"blue\",\"blue\",\"blue\",\"blue\",\"blue\",\"blue\",\"blue\",\"blue\",\"blue\",\"blue\",\"blue\",\"blue\",\"blue\",\"blue\",\"blue\",\"blue\",\"blue\",\"blue\",\"blue\",\"blue\",\"blue\",\"blue\",\"blue\",\"blue\",\"blue\",\"blue\",\"blue\",\"blue\",\"blue\",\"blue\",\"blue\",\"blue\",\"blue\",\"blue\",\"blue\",\"blue\",\"blue\",\"blue\",\"blue\",\"blue\",\"blue\",\"blue\",\"blue\",\"blue\",\"blue\",\"blue\",\"blue\",\"blue\",\"blue\",\"blue\",\"blue\",\"blue\",\"blue\",\"blue\",\"blue\",\"blue\",\"blue\",\"blue\",\"blue\",\"blue\",\"blue\",\"blue\",\"blue\",\"blue\",\"blue\",\"blue\",\"blue\",\"blue\",\"blue\",\"blue\",\"blue\",\"blue\",\"blue\",\"blue\",\"blue\",\"blue\",\"blue\",\"blue\",\"blue\",\"blue\",\"blue\",\"blue\",\"blue\",\"blue\",\"blue\",\"blue\",\"blue\",\"blue\",\"blue\",\"blue\",\"blue\",\"blue\",\"blue\",\"blue\",\"blue\",\"blue\",\"blue\",\"blue\",\"blue\",\"blue\",\"blue\",\"blue\",\"blue\",\"blue\",\"blue\",\"blue\",\"blue\",\"blue\",\"blue\",\"blue\",\"blue\",\"blue\",\"blue\",\"blue\",\"blue\",\"blue\",\"blue\",\"blue\",\"blue\",\"blue\",\"blue\",\"blue\",\"blue\",\"blue\",\"blue\",\"blue\",\"blue\",\"blue\",\"blue\",\"blue\",\"blue\",\"blue\",\"blue\",\"blue\",\"blue\",\"blue\",\"blue\",\"blue\",\"blue\",\"blue\",\"blue\",\"blue\",\"blue\",\"blue\",\"blue\",\"blue\",\"blue\",\"blue\",\"blue\",\"blue\",\"blue\",\"blue\",\"blue\",\"blue\",\"blue\",\"blue\",\"blue\",\"blue\",\"blue\",\"blue\",\"blue\",\"blue\",\"blue\",\"blue\",\"blue\",\"blue\",\"blue\",\"blue\",\"blue\",\"blue\",\"blue\",\"blue\",\"blue\",\"blue\",\"blue\",\"blue\",\"blue\",\"blue\",\"blue\",\"blue\",\"blue\",\"blue\",\"blue\",\"blue\",\"blue\",\"blue\",\"blue\",\"blue\",\"blue\",\"blue\",\"blue\",\"blue\",\"blue\",\"blue\",\"blue\",\"blue\",\"blue\",\"blue\",\"blue\",\"blue\",\"blue\",\"blue\",\"blue\",\"blue\",\"blue\",\"blue\",\"blue\",\"blue\",\"blue\",\"blue\",\"blue\",\"blue\",\"blue\",\"blue\",\"blue\",\"blue\",\"blue\",\"blue\",\"blue\",\"blue\",\"blue\",\"blue\",\"blue\",\"blue\",\"blue\",\"blue\",\"blue\",\"blue\",\"blue\",\"blue\",\"blue\",\"blue\",\"blue\",\"blue\",\"blue\",\"blue\",\"blue\",\"blue\",\"blue\",\"blue\",\"blue\",\"blue\",\"blue\",\"blue\",\"blue\",\"blue\",\"blue\",\"blue\",\"blue\",\"blue\",\"blue\",\"blue\",\"blue\",\"blue\",\"blue\",\"blue\",\"blue\",\"blue\",\"blue\",\"blue\",\"blue\",\"blue\",\"blue\",\"blue\",\"blue\",\"blue\",\"blue\",\"blue\",\"blue\",\"blue\",\"blue\",\"blue\",\"blue\",\"blue\",\"blue\",\"blue\",\"blue\",\"blue\",\"blue\",\"blue\",\"blue\",\"blue\",\"blue\",\"blue\",\"blue\",\"blue\",\"blue\",\"blue\",\"blue\",\"blue\",\"blue\",\"blue\",\"blue\",\"blue\",\"blue\",\"blue\",\"blue\",\"blue\",\"blue\",\"blue\",\"blue\",\"blue\",\"blue\",\"blue\",\"blue\",\"blue\",\"blue\",\"blue\",\"blue\",\"blue\",\"blue\",\"blue\",\"blue\",\"blue\",\"blue\",\"blue\",\"blue\",\"blue\",\"blue\",\"blue\",\"blue\",\"blue\",\"blue\",\"blue\",\"blue\",\"blue\",\"blue\",\"blue\",\"blue\",\"blue\",\"blue\",\"blue\",\"blue\",\"blue\",\"blue\",\"blue\",\"blue\",\"blue\",\"blue\",\"blue\",\"blue\",\"blue\",\"blue\",\"blue\",\"blue\",\"blue\",\"blue\",\"blue\",\"blue\",\"blue\",\"blue\",\"blue\",\"blue\",\"blue\",\"blue\",\"blue\",\"blue\",\"blue\",\"blue\",\"blue\",\"blue\",\"blue\",\"blue\",\"blue\",\"blue\",\"blue\",\"blue\",\"blue\",\"blue\",\"blue\",\"blue\",\"blue\",\"blue\",\"blue\",\"blue\",\"blue\",\"blue\",\"blue\",\"blue\",\"blue\",\"blue\",\"blue\",\"blue\",\"blue\",\"blue\",\"blue\",\"blue\",\"blue\",\"blue\",\"blue\",\"blue\",\"blue\",\"blue\",\"blue\",\"blue\",\"blue\",\"blue\",\"blue\",\"blue\",\"blue\",\"blue\",\"blue\",\"blue\",\"blue\",\"blue\",\"blue\",\"blue\",\"blue\",\"blue\",\"blue\",\"blue\",\"blue\",\"blue\",\"blue\",\"blue\",\"blue\",\"blue\",\"blue\",\"blue\",\"blue\",\"blue\",\"blue\",\"blue\",\"blue\",\"blue\",\"blue\",\"blue\",\"blue\",\"blue\",\"blue\",\"blue\",\"blue\",\"blue\",\"blue\",\"blue\",\"blue\",\"blue\",\"blue\",\"blue\",\"blue\",\"blue\",\"blue\",\"blue\",\"blue\",\"blue\",\"blue\",\"blue\",\"blue\",\"blue\",\"blue\",\"blue\",\"blue\",\"blue\",\"blue\",\"blue\",\"blue\",\"blue\",\"blue\",\"blue\",\"blue\",\"blue\",\"blue\",\"blue\",\"blue\",\"blue\",\"blue\",\"blue\",\"blue\",\"blue\",\"blue\",\"blue\",\"blue\",\"blue\",\"blue\",\"blue\",\"blue\",\"blue\",\"blue\",\"blue\",\"blue\",\"blue\",\"blue\",\"blue\",\"blue\",\"blue\",\"blue\",\"blue\",\"blue\",\"blue\",\"blue\",\"blue\",\"blue\",\"blue\",\"blue\",\"blue\",\"blue\",\"blue\",\"blue\",\"blue\",\"blue\",\"blue\",\"blue\",\"blue\",\"blue\",\"blue\",\"blue\",\"blue\",\"blue\",\"blue\",\"blue\",\"blue\",\"blue\",\"blue\",\"blue\",\"blue\",\"blue\",\"blue\",\"blue\",\"blue\",\"blue\",\"blue\",\"blue\",\"blue\",\"blue\",\"blue\",\"blue\",\"blue\",\"blue\",\"blue\",\"blue\",\"blue\",\"blue\",\"blue\",\"blue\",\"blue\",\"blue\",\"blue\",\"blue\",\"blue\",\"blue\",\"blue\",\"blue\",\"blue\",\"blue\",\"blue\",\"blue\",\"blue\",\"blue\",\"blue\",\"blue\",\"blue\",\"blue\",\"blue\",\"blue\",\"blue\",\"blue\",\"blue\",\"blue\",\"blue\",\"blue\",\"blue\",\"blue\",\"blue\",\"blue\",\"blue\",\"blue\",\"blue\",\"blue\",\"blue\",\"blue\",\"blue\",\"blue\",\"blue\",\"blue\",\"blue\",\"blue\",\"blue\",\"blue\",\"blue\",\"blue\",\"blue\",\"blue\",\"blue\",\"blue\",\"blue\",\"blue\",\"blue\",\"blue\",\"blue\",\"blue\",\"blue\",\"blue\",\"blue\",\"blue\",\"blue\",\"blue\",\"blue\",\"blue\",\"blue\",\"blue\",\"blue\",\"blue\",\"blue\",\"blue\",\"blue\",\"blue\",\"blue\",\"blue\",\"blue\",\"blue\",\"blue\",\"blue\",\"blue\",\"blue\",\"blue\",\"blue\",\"blue\",\"blue\",\"blue\",\"blue\",\"blue\",\"blue\",\"blue\",\"blue\",\"blue\",\"blue\",\"blue\",\"blue\",\"blue\",\"blue\",\"blue\",\"blue\",\"blue\",\"blue\",\"blue\",\"blue\",\"blue\",\"blue\",\"blue\",\"blue\",\"blue\",\"blue\",\"blue\",\"blue\",\"blue\",\"blue\",\"blue\",\"blue\",\"blue\",\"blue\",\"blue\",\"blue\",\"blue\",\"blue\",\"blue\",\"blue\",\"blue\",\"blue\",\"blue\",\"blue\",\"blue\",\"blue\",\"blue\",\"blue\",\"blue\",\"blue\",\"blue\",\"blue\",\"blue\",\"blue\",\"blue\",\"blue\",\"blue\",\"blue\",\"blue\",\"blue\",\"blue\",\"blue\",\"blue\",\"blue\",\"blue\",\"blue\",\"blue\",\"blue\",\"blue\",\"blue\",\"blue\",\"blue\",\"blue\",\"blue\",\"blue\",\"blue\",\"blue\",\"blue\",\"blue\",\"blue\",\"blue\",\"blue\",\"blue\",\"blue\",\"blue\",\"blue\",\"blue\",\"blue\",\"blue\",\"blue\",\"blue\",\"blue\",\"blue\",\"blue\",\"blue\",\"blue\",\"blue\",\"blue\",\"blue\",\"blue\",\"blue\",\"blue\",\"blue\",\"blue\",\"blue\",\"blue\",\"blue\",\"blue\",\"blue\",\"blue\",\"blue\",\"blue\",\"blue\",\"blue\",\"blue\",\"blue\",\"blue\",\"blue\",\"blue\",\"blue\",\"blue\",\"blue\",\"blue\",\"blue\",\"blue\",\"blue\",\"blue\",\"blue\",\"blue\",\"blue\",\"blue\",\"blue\",\"blue\",\"blue\",\"blue\",\"blue\",\"blue\",\"blue\",\"blue\",\"blue\",\"blue\",\"blue\",\"blue\",\"blue\",\"blue\",\"blue\",\"blue\",\"blue\",\"blue\",\"blue\",\"blue\",\"blue\",\"blue\",\"blue\",\"blue\",\"blue\",\"blue\",\"blue\",\"blue\",\"blue\",\"blue\",\"blue\",\"blue\",\"blue\",\"blue\",\"blue\"],\"token\":[\"code\",\"string\",\"using\",\"file\",\"new\",\"error\",\"return\",\"int\",\"like\",\"get\",\"want\",\"value\",\"public\",\"im\",\"function\",\"class\",\"use\",\"name\",\"c\",\"data\",\"python\",\"import\",\"need\",\"work\",\"array\",\"number\",\"would\",\"help\",\"one\",\"void\",\"java\",\"list\",\"android\",\"line\",\"javascript\",\"way\",\"user\",\"var\",\"trying\",\"x\",\"php\",\"else\",\"object\",\"know\",\"id\",\"type\",\"image\",\"time\",\"app\",\"method\",\"make\",\"run\",\"following\",\"input\",\"set\",\"example\",\"b\",\"null\",\"html\",\"problem\",\"please\",\"result\",\"tried\",\"true\",\"find\",\"text\",\"create\",\"table\",\"output\",\"dont\",\"thanks\",\"button\",\"test\",\"first\",\"variable\",\"private\",\"div\",\"change\",\"add\",\"project\",\"working\",\"n\",\"two\",\"question\",\"print\",\"column\",\"date\",\"try\",\"case\",\"ive\",\"also\",\"version\",\"page\",\"something\",\"application\",\"false\",\"call\",\"let\",\"could\",\"server\",\"cant\",\"database\",\"program\",\"e\",\"see\",\"static\",\"row\",\"view\",\"end\",\"sql\",\"key\",\"main\",\"show\",\"form\",\"getting\",\"script\",\"include\",\"element\",\"found\",\"item\",\"doesnt\",\"r\",\"select\",\"used\",\"j\",\"different\",\"message\",\"without\",\"component\",\"v\",\"build\",\"enter\",\"angular\",\"command\",\"json\",\"size\",\"possible\",\"another\",\"check\",\"loop\",\"however\",\"override\",\"option\",\"start\",\"request\",\"api\",\"url\",\"c#\",\"query\",\"read\",\"echo\",\"const\",\"go\",\"issue\",\"look\",\"char\",\"write\",\"display\",\"running\",\"word\",\"wrong\",\"px\",\"second\",\"right\",\"default\",\"anyone\",\"solution\",\"window\",\"simple\",\"jquery\",\"give\",\"able\",\"def\",\"link\",\"module\",\"understand\",\"say\",\"field\",\"service\",\"p\",\"answer\",\"mysql\",\"inside\",\"multiple\",\"studio\",\"idea\",\"exception\",\"update\",\"f\",\"access\",\"path\",\"package\",\"click\",\"index\",\"even\",\"c++\",\"convert\",\"double\",\"point\",\"cout\",\"open\",\"library\",\"created\",\"property\",\"parameter\",\"swift\",\"still\",\"count\",\"every\",\"thank\",\"take\",\"format\",\"order\",\"color\",\"instead\",\"web\",\"seems\",\"react\",\"password\",\"node\",\"install\",\"sure\",\"email\",\"got\",\"post\",\"put\",\"failed\",\"character\",\"website\",\"break\",\"state\",\"integer\",\"many\",\"thing\",\"last\",\"content\",\"already\",\"description\",\"store\",\"regex\",\"statement\",\"fine\",\"someone\",\"source\",\"model\",\"advance\",\"search\",\"google\",\"called\",\"response\",\"long\",\"h\",\"reference\",\"remove\",\"folder\",\"mean\",\"part\",\"current\",\"specific\",\"difference\",\"container\",\"header\",\"really\",\"correct\",\"directory\",\"width\",\"pas\",\"title\",\"event\",\"instance\",\"information\",\"docker\",\"final\",\"insert\",\"child\",\"next\",\"given\",\"map\",\"fix\",\"based\",\"best\",\"day\",\"system\",\"single\",\"implement\",\"template\",\"io\",\"db\",\"tag\",\"dependency\",\"extends\",\"git\",\"height\",\"css\",\"load\",\"expected\",\"random\",\"action\",\"delete\",\"g\",\"must\",\"cs\",\"process\",\"done\",\"position\",\"since\",\"screen\",\"currently\",\"log\",\"address\",\"struct\",\"match\",\"appreciated\",\"much\",\"none\",\"keep\",\"activity\",\"compile\",\"context\",\"body\",\"task\",\"well\",\"label\",\"syntax\",\"send\",\"location\",\"looking\",\"think\",\"figure\",\"always\",\"setting\",\"argument\",\"etc\",\"bit\",\"args\",\"username\",\"back\",\"left\",\"export\",\"missing\",\"lot\",\"visual\",\"creating\",\"bar\",\"throw\",\"login\",\"k\",\"save\",\"group\",\"within\",\"typescript\",\"seem\",\"tell\",\"client\",\"whats\",\"http\",\"may\",\"device\",\"contains\",\"excel\",\"hello\",\"connection\",\"console\",\"warning\",\"ios\",\"custom\",\"l\",\"background\",\"step\",\"u\",\"linux\",\"anything\",\"nothing\",\"sum\",\"via\",\"memory\",\"arrays\",\"range\",\"browser\",\"endl\",\"good\",\"length\",\"info\",\"cell\",\"installed\",\"product\",\"constructor\",\"token\",\"total\",\"npm\",\"required\",\"solve\",\"textview\",\"float\",\"status\",\"everything\",\"catch\",\"explain\",\"firebase\",\"ie\",\"space\",\"far\",\"added\",\"boolean\",\"dictionary\",\"core\",\"top\",\"local\",\"replace\",\"copy\",\"foo\",\"menu\",\"flutter\",\"didnt\",\"undefined\",\"thread\",\"block\",\"come\",\"reason\",\"better\",\"implementation\",\"\\u2019\",\"made\",\"eg\",\"configuration\",\"going\",\"sort\",\"language\",\"xcode\",\"documentation\",\"operator\",\"defined\",\"attribute\",\"pointer\",\"empty\",\"record\",\"similar\",\"interface\",\"br\",\"parent\",\"note\",\"namespace\",\"func\",\"adding\",\"vector\",\"structure\",\"expression\",\"execute\",\"python-3.x\",\"style\",\"game\",\"reactjs\",\"box\",\"year\",\"xml\",\"num\",\"csv\",\"net\",\"val\",\"achieve\",\"either\",\"connect\",\"unable\",\"protected\",\"handle\",\"spring\",\"plugin\",\"environment\",\"move\",\"controller\",\"arraylist\",\"place\",\"dataframe\",\"actually\",\"isnt\",\"w\",\"level\",\"site\",\"hour\",\"month\",\"around\",\"detail\",\"resource\",\"condition\",\"exit\",\"filter\",\"port\",\"price\",\"making\",\"video\",\"invalid\",\"byte\",\"chrome\",\"define\",\"framework\",\"z\",\"head\",\"join\",\"valid\",\"generate\",\"target\",\"route\",\"root\",\"host\",\"support\",\"ip\",\"switch\",\"started\",\"letter\",\"feature\",\"debug\",\"available\",\"showing\",\"account\",\"stop\",\"here\",\"err\",\"laravel\",\"entry\",\"str\",\"pattern\",\"base\",\"full\",\"stack\",\"forint\",\"kotlin\",\"ok\",\"sample\",\"amount\",\"intent\",\"operation\",\"resolve\",\"control\",\"us\",\"rest\",\"algorithm\",\"three\",\"selected\",\"reading\",\"testing\",\"student\",\"mainstring\",\"machine\",\"contain\",\"correctly\",\"ruby\",\"ajax\",\"calling\",\"tool\",\"django\",\"phone\",\"basic\",\"sql-server\",\"programming\",\"push\",\"frame\",\"starting\",\"native\",\"player\",\"fragment\",\"kind\",\"written\",\"learning\",\"bool\",\"side\",\"fetch\",\"wondering\",\"book\",\"apply\",\"section\",\"node.js\",\"render\",\"tutorial\",\"bash\",\"download\",\"layout\",\"provide\",\"exist\",\"mode\",\"age\",\"stream\",\"edittext\",\"extension\",\"approach\",\"compiler\",\"nested\",\"member\",\"score\",\"session\",\"setup\",\"properly\",\"split\",\"col\",\"doc\",\"maybe\",\"changed\",\"thats\",\"datetime\",\"might\",\"config\",\"td\",\"repository\",\"na\",\"standard\",\"widget\",\"temp\",\"whole\",\"checked\",\"ubuntu\",\"aws\",\"q\",\"exactly\",\"digit\",\"vba\",\"automatically\",\"network\",\"basically\",\"global\",\"thought\",\"icon\",\"calculate\",\"gradle\",\"yes\",\"matrix\",\"per\",\"webpack\",\"equal\",\"github\",\"symbol\",\"document\",\"certain\",\"successfully\",\"person\",\"suggestion\",\"li\",\"hi\",\"permission\",\"numpy\",\"close\",\"clear\",\"writing\",\"tab\",\"center\",\"card\",\"sub\",\"picture\",\"filename\",\"wont\",\"ask\",\"max\",\"play\",\"couldnt\",\"red\",\"nodejs\",\"stored\",\"small\",\"active\",\"though\",\"success\",\"separate\",\"exists\",\"category\",\"extract\",\"auto\",\"foreach\",\"apps\",\"simply\",\"job\",\"bottom\",\"df\",\"generated\",\"world\",\"performance\",\"comment\",\"named\",\"panda\",\"aspnet\",\"appear\",\"development\",\"allow\",\"dynamic\",\"release\",\"wordpress\",\"branch\",\"loaded\",\"related\",\"particular\",\"several\",\"loading\",\"compare\",\"std\",\"little\",\"shown\",\"parse\",\"hash\",\"tensorflow\",\"min\",\"cause\",\"shell\",\"building\",\"varchar\",\"whether\",\"original\",\"font\",\"elif\",\"o\",\"except\",\"wanted\",\"computer\",\"previous\",\"changing\",\"notification\",\"attempt\",\"sender\",\"logic\",\"worked\",\"le\",\"appears\",\"listview\",\"online\",\"follows\",\"bootstrap\",\"mobile\",\"existing\",\"continue\",\"savedinstancestate\",\"jenkins\",\"bundle\",\"returned\",\"binary\",\"tr\",\"yet\",\"async\",\"ui\",\"execution\",\"home\",\"directly\",\"stuff\",\"guess\",\"complete\",\"according\",\"unit\",\"quite\",\"understanding\",\"minute\",\"tree\",\"nil\",\"people\",\"specified\",\"old\",\"padding\",\"retrieve\",\"developer\",\"great\",\"limit\",\"stuck\",\"perl\",\"duplicate\",\"never\",\"behavior\",\"lambda\",\"learn\",\"large\",\"giving\",\"collection\",\"userid\",\"entity\",\"azure\",\"upload\",\"virtual\",\"requirement\",\"updated\",\"begin\",\"\\u2018\",\"manually\",\"guy\",\"zero\",\"ul\",\"present\",\"counter\",\"m\",\"img\",\"actual\",\"plot\",\"definition\",\"employee\",\"oracle\",\"easy\",\"disable\",\"runtime\",\"passed\",\"sdk\",\"prop\",\"needed\",\"abc\",\"rule\",\"fails\",\"outside\",\"average\",\"sheet\",\"turn\",\"assign\",\"course\",\"require\",\"big\",\"unique\",\"crash\",\"scope\",\"seen\",\"pip\",\"ex\",\"provider\",\"angularjs\",\"pdf\",\"there\",\"sorry\",\"real\",\"terminal\",\"purpose\",\"recently\",\"validation\",\"practice\",\"returning\",\"param\",\"hope\",\"vue\",\"sqlite\",\"coding\",\"confused\",\"border\",\"happens\",\"contact\",\"article\",\"scanner\",\"sorting\",\"submit\",\"domain\",\"beginner\",\"trouble\",\"recent\",\"design\",\"customer\",\"dim\",\"th\",\"margin\",\"suggest\",\"share\",\"area\",\"week\",\"selenium\",\"external\",\"pretty\",\"remote\",\"printf\",\"third\",\"unexpected\",\"bad\",\"alert\",\"primary\",\"entered\",\"appreciate\",\"cache\",\"across\",\"flag\",\"pull\",\"lastname\",\"iphone\",\"de\",\"effect\",\"press\",\"firstname\",\"hide\",\"regular\",\"normal\",\"typeerror\",\"trigger\",\"supposed\",\"internet\",\"perform\",\"suppose\",\"containing\",\"modify\",\"avoid\",\"declaration\",\"city\",\"declare\",\"report\",\"clicked\",\"white\",\"due\",\"common\",\"displayed\",\"txt\",\"admin\",\"least\",\"typetext\",\"dynamically\",\"express\",\"stdcout\",\"scala\",\"fill\",\"edit\",\"searching\",\"expect\",\"assembly\",\"latest\",\"androidlayoutheightwrapcontent\",\"\\u201d\",\"decimal\",\"country\",\"rather\",\"superoncreatesavedinstancestate\",\"span\",\"authentication\",\"dialog\",\"choice\",\"searched\",\"merge\",\"sequence\",\"android-studio\",\"init\",\"mark\",\"provided\",\"gcc\",\"unsigned\",\"inner\",\"graph\",\"dataset\",\"term\",\"arr\",\"draw\",\"re\",\"scroll\",\"looked\",\"equivalent\",\"self\",\".net\",\"wrote\",\"layer\",\"cmd\",\"oncreatebundle\",\"wait\",\"apple\",\"choose\",\"finding\",\"pandas\",\"facebook\",\"selector\",\"black\",\"later\",\"grid\",\"callback\",\"backend\",\"pipeline\",\"backgroundcolor\",\"await\",\"queue\",\"free\",\"proper\",\"textbox\",\"commit\",\"developing\",\"happen\",\"nan\",\"passing\",\"channel\",\"company\",\"together\",\"systemoutprintln\",\"register\",\"anybody\",\"creates\",\"platform\",\"schema\",\"guide\",\"router\",\"specify\",\"navigation\",\"batch\",\"assignment\",\"storage\",\"whenever\",\"sent\",\"redirect\",\"constraint\",\"consider\",\"driver\",\"configure\",\"high\",\"weight\",\"checkbox\",\"hard\",\"\\u201c\",\"prevent\",\"production\",\"extra\",\"security\",\"onclickview\",\"drop\",\"debugging\"],\"x\":{\"__ndarray__\":\"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\",\"dtype\":\"float32\",\"order\":\"little\",\"shape\":[1000]},\"y\":{\"__ndarray__\":\"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\",\"dtype\":\"float32\",\"order\":\"little\",\"shape\":[1000]}},\"selected\":{\"id\":\"1047\"},\"selection_policy\":{\"id\":\"1046\"}},\"id\":\"1001\",\"type\":\"ColumnDataSource\"},{\"attributes\":{\"axis\":{\"id\":\"1015\"},\"dimension\":1,\"ticker\":null},\"id\":\"1018\",\"type\":\"Grid\"},{\"attributes\":{},\"id\":\"1045\",\"type\":\"BasicTickFormatter\"},{\"attributes\":{},\"id\":\"1046\",\"type\":\"UnionRenderers\"},{\"attributes\":{\"data_source\":{\"id\":\"1001\"},\"glyph\":{\"id\":\"1034\"},\"hover_glyph\":null,\"muted_glyph\":null,\"nonselection_glyph\":{\"id\":\"1035\"},\"selection_glyph\":null,\"view\":{\"id\":\"1037\"}},\"id\":\"1036\",\"type\":\"GlyphRenderer\"},{\"attributes\":{},\"id\":\"1019\",\"type\":\"PanTool\"},{\"attributes\":{},\"id\":\"1005\",\"type\":\"DataRange1d\"},{\"attributes\":{},\"id\":\"1020\",\"type\":\"WheelZoomTool\"},{\"attributes\":{\"fill_alpha\":{\"value\":0.25},\"fill_color\":{\"field\":\"color\"},\"line_alpha\":{\"value\":0.25},\"line_color\":{\"field\":\"color\"},\"size\":{\"units\":\"screen\",\"value\":10},\"x\":{\"field\":\"x\"},\"y\":{\"field\":\"y\"}},\"id\":\"1034\",\"type\":\"Scatter\"},{\"attributes\":{\"overlay\":{\"id\":\"1025\"}},\"id\":\"1021\",\"type\":\"BoxZoomTool\"},{\"attributes\":{},\"id\":\"1022\",\"type\":\"SaveTool\"},{\"attributes\":{},\"id\":\"1023\",\"type\":\"ResetTool\"},{\"attributes\":{\"axis\":{\"id\":\"1011\"},\"ticker\":null},\"id\":\"1014\",\"type\":\"Grid\"},{\"attributes\":{},\"id\":\"1024\",\"type\":\"HelpTool\"},{\"attributes\":{\"formatter\":{\"id\":\"1043\"},\"ticker\":{\"id\":\"1012\"}},\"id\":\"1011\",\"type\":\"LinearAxis\"},{\"attributes\":{},\"id\":\"1007\",\"type\":\"LinearScale\"},{\"attributes\":{},\"id\":\"1003\",\"type\":\"DataRange1d\"},{\"attributes\":{\"active_drag\":\"auto\",\"active_inspect\":\"auto\",\"active_multi\":null,\"active_scroll\":{\"id\":\"1020\"},\"active_tap\":\"auto\",\"tools\":[{\"id\":\"1019\"},{\"id\":\"1020\"},{\"id\":\"1021\"},{\"id\":\"1022\"},{\"id\":\"1023\"},{\"id\":\"1024\"},{\"id\":\"1038\"}]},\"id\":\"1026\",\"type\":\"Toolbar\"},{\"attributes\":{\"fill_alpha\":{\"value\":0.1},\"fill_color\":{\"field\":\"color\"},\"line_alpha\":{\"value\":0.1},\"line_color\":{\"field\":\"color\"},\"size\":{\"units\":\"screen\",\"value\":10},\"x\":{\"field\":\"x\"},\"y\":{\"field\":\"y\"}},\"id\":\"1035\",\"type\":\"Scatter\"},{\"attributes\":{\"callback\":null,\"tooltips\":[[\"token\",\"@token\"]]},\"id\":\"1038\",\"type\":\"HoverTool\"},{\"attributes\":{},\"id\":\"1009\",\"type\":\"LinearScale\"},{\"attributes\":{\"source\":{\"id\":\"1001\"}},\"id\":\"1037\",\"type\":\"CDSView\"},{\"attributes\":{},\"id\":\"1043\",\"type\":\"BasicTickFormatter\"},{\"attributes\":{\"bottom_units\":\"screen\",\"fill_alpha\":0.5,\"fill_color\":\"lightgrey\",\"left_units\":\"screen\",\"level\":\"overlay\",\"line_alpha\":1.0,\"line_color\":\"black\",\"line_dash\":[4,4],\"line_width\":2,\"right_units\":\"screen\",\"top_units\":\"screen\"},\"id\":\"1025\",\"type\":\"BoxAnnotation\"}],\"root_ids\":[\"1002\"]},\"title\":\"Bokeh Application\",\"version\":\"2.1.1\"}};\n",
              "  var render_items = [{\"docid\":\"f640e9a5-a18f-43b4-b524-4e95a63f666c\",\"root_ids\":[\"1002\"],\"roots\":{\"1002\":\"2c6581f0-ac95-4183-bf98-1b4817baad75\"}}];\n",
              "  root.Bokeh.embed.embed_items_notebook(docs_json, render_items);\n",
              "\n",
              "  }\n",
              "  if (root.Bokeh !== undefined) {\n",
              "    embed_document(root);\n",
              "  } else {\n",
              "    var attempts = 0;\n",
              "    var timer = setInterval(function(root) {\n",
              "      if (root.Bokeh !== undefined) {\n",
              "        clearInterval(timer);\n",
              "        embed_document(root);\n",
              "      } else {\n",
              "        attempts++;\n",
              "        if (attempts > 100) {\n",
              "          clearInterval(timer);\n",
              "          console.log(\"Bokeh: ERROR: Unable to run BokehJS code because BokehJS library is missing\");\n",
              "        }\n",
              "      }\n",
              "    }, 10, root)\n",
              "  }\n",
              "})(window);"
            ],
            "application/vnd.bokehjs_exec.v0+json": ""
          },
          "metadata": {
            "tags": [],
            "application/vnd.bokehjs_exec.v0+json": {
              "id": "1002"
            }
          }
        },
        {
          "output_type": "execute_result",
          "data": {
            "text/html": [
              "<div style=\"display: table;\"><div style=\"display: table-row;\"><div style=\"display: table-cell;\"><b title=\"bokeh.plotting.figure.Figure\">Figure</b>(</div><div style=\"display: table-cell;\">id&nbsp;=&nbsp;'1002', <span id=\"1104\" style=\"cursor: pointer;\">&hellip;)</span></div></div><div class=\"1103\" style=\"display: none;\"><div style=\"display: table-cell;\"></div><div style=\"display: table-cell;\">above&nbsp;=&nbsp;[],</div></div><div class=\"1103\" style=\"display: none;\"><div style=\"display: table-cell;\"></div><div style=\"display: table-cell;\">align&nbsp;=&nbsp;'start',</div></div><div class=\"1103\" style=\"display: none;\"><div style=\"display: table-cell;\"></div><div style=\"display: table-cell;\">aspect_ratio&nbsp;=&nbsp;None,</div></div><div class=\"1103\" style=\"display: none;\"><div style=\"display: table-cell;\"></div><div style=\"display: table-cell;\">aspect_scale&nbsp;=&nbsp;1,</div></div><div class=\"1103\" style=\"display: none;\"><div style=\"display: table-cell;\"></div><div style=\"display: table-cell;\">background&nbsp;=&nbsp;None,</div></div><div class=\"1103\" style=\"display: none;\"><div style=\"display: table-cell;\"></div><div style=\"display: table-cell;\">background_fill_alpha&nbsp;=&nbsp;1.0,</div></div><div class=\"1103\" style=\"display: none;\"><div style=\"display: table-cell;\"></div><div style=\"display: table-cell;\">background_fill_color&nbsp;=&nbsp;'#ffffff',</div></div><div class=\"1103\" style=\"display: none;\"><div style=\"display: table-cell;\"></div><div style=\"display: table-cell;\">below&nbsp;=&nbsp;[LinearAxis(id='1011', ...)],</div></div><div class=\"1103\" style=\"display: none;\"><div style=\"display: table-cell;\"></div><div style=\"display: table-cell;\">border_fill_alpha&nbsp;=&nbsp;1.0,</div></div><div class=\"1103\" style=\"display: none;\"><div style=\"display: table-cell;\"></div><div style=\"display: table-cell;\">border_fill_color&nbsp;=&nbsp;'#ffffff',</div></div><div class=\"1103\" style=\"display: none;\"><div style=\"display: table-cell;\"></div><div style=\"display: table-cell;\">center&nbsp;=&nbsp;[Grid(id='1014', ...), Grid(id='1018', ...)],</div></div><div class=\"1103\" style=\"display: none;\"><div style=\"display: table-cell;\"></div><div style=\"display: table-cell;\">css_classes&nbsp;=&nbsp;[],</div></div><div class=\"1103\" style=\"display: none;\"><div style=\"display: table-cell;\"></div><div style=\"display: table-cell;\">disabled&nbsp;=&nbsp;False,</div></div><div class=\"1103\" style=\"display: none;\"><div style=\"display: table-cell;\"></div><div style=\"display: table-cell;\">extra_x_ranges&nbsp;=&nbsp;{},</div></div><div class=\"1103\" style=\"display: none;\"><div style=\"display: table-cell;\"></div><div style=\"display: table-cell;\">extra_y_ranges&nbsp;=&nbsp;{},</div></div><div class=\"1103\" style=\"display: none;\"><div style=\"display: table-cell;\"></div><div style=\"display: table-cell;\">frame_height&nbsp;=&nbsp;None,</div></div><div class=\"1103\" style=\"display: none;\"><div style=\"display: table-cell;\"></div><div style=\"display: table-cell;\">frame_width&nbsp;=&nbsp;None,</div></div><div class=\"1103\" style=\"display: none;\"><div style=\"display: table-cell;\"></div><div style=\"display: table-cell;\">height&nbsp;=&nbsp;None,</div></div><div class=\"1103\" style=\"display: none;\"><div style=\"display: table-cell;\"></div><div style=\"display: table-cell;\">height_policy&nbsp;=&nbsp;'auto',</div></div><div class=\"1103\" style=\"display: none;\"><div style=\"display: table-cell;\"></div><div style=\"display: table-cell;\">hidpi&nbsp;=&nbsp;True,</div></div><div class=\"1103\" style=\"display: none;\"><div style=\"display: table-cell;\"></div><div style=\"display: table-cell;\">js_event_callbacks&nbsp;=&nbsp;{},</div></div><div class=\"1103\" style=\"display: none;\"><div style=\"display: table-cell;\"></div><div style=\"display: table-cell;\">js_property_callbacks&nbsp;=&nbsp;{},</div></div><div class=\"1103\" style=\"display: none;\"><div style=\"display: table-cell;\"></div><div style=\"display: table-cell;\">left&nbsp;=&nbsp;[LinearAxis(id='1015', ...)],</div></div><div class=\"1103\" style=\"display: none;\"><div style=\"display: table-cell;\"></div><div style=\"display: table-cell;\">lod_factor&nbsp;=&nbsp;10,</div></div><div class=\"1103\" style=\"display: none;\"><div style=\"display: table-cell;\"></div><div style=\"display: table-cell;\">lod_interval&nbsp;=&nbsp;300,</div></div><div class=\"1103\" style=\"display: none;\"><div style=\"display: table-cell;\"></div><div style=\"display: table-cell;\">lod_threshold&nbsp;=&nbsp;2000,</div></div><div class=\"1103\" style=\"display: none;\"><div style=\"display: table-cell;\"></div><div style=\"display: table-cell;\">lod_timeout&nbsp;=&nbsp;500,</div></div><div class=\"1103\" style=\"display: none;\"><div style=\"display: table-cell;\"></div><div style=\"display: table-cell;\">margin&nbsp;=&nbsp;(0, 0, 0, 0),</div></div><div class=\"1103\" style=\"display: none;\"><div style=\"display: table-cell;\"></div><div style=\"display: table-cell;\">match_aspect&nbsp;=&nbsp;False,</div></div><div class=\"1103\" style=\"display: none;\"><div style=\"display: table-cell;\"></div><div style=\"display: table-cell;\">max_height&nbsp;=&nbsp;None,</div></div><div class=\"1103\" style=\"display: none;\"><div style=\"display: table-cell;\"></div><div style=\"display: table-cell;\">max_width&nbsp;=&nbsp;None,</div></div><div class=\"1103\" style=\"display: none;\"><div style=\"display: table-cell;\"></div><div style=\"display: table-cell;\">min_border&nbsp;=&nbsp;5,</div></div><div class=\"1103\" style=\"display: none;\"><div style=\"display: table-cell;\"></div><div style=\"display: table-cell;\">min_border_bottom&nbsp;=&nbsp;None,</div></div><div class=\"1103\" style=\"display: none;\"><div style=\"display: table-cell;\"></div><div style=\"display: table-cell;\">min_border_left&nbsp;=&nbsp;None,</div></div><div class=\"1103\" style=\"display: none;\"><div style=\"display: table-cell;\"></div><div style=\"display: table-cell;\">min_border_right&nbsp;=&nbsp;None,</div></div><div class=\"1103\" style=\"display: none;\"><div style=\"display: table-cell;\"></div><div style=\"display: table-cell;\">min_border_top&nbsp;=&nbsp;None,</div></div><div class=\"1103\" style=\"display: none;\"><div style=\"display: table-cell;\"></div><div style=\"display: table-cell;\">min_height&nbsp;=&nbsp;None,</div></div><div class=\"1103\" style=\"display: none;\"><div style=\"display: table-cell;\"></div><div style=\"display: table-cell;\">min_width&nbsp;=&nbsp;None,</div></div><div class=\"1103\" style=\"display: none;\"><div style=\"display: table-cell;\"></div><div style=\"display: table-cell;\">name&nbsp;=&nbsp;None,</div></div><div class=\"1103\" style=\"display: none;\"><div style=\"display: table-cell;\"></div><div style=\"display: table-cell;\">outline_line_alpha&nbsp;=&nbsp;1.0,</div></div><div class=\"1103\" style=\"display: none;\"><div style=\"display: table-cell;\"></div><div style=\"display: table-cell;\">outline_line_cap&nbsp;=&nbsp;'butt',</div></div><div class=\"1103\" style=\"display: none;\"><div style=\"display: table-cell;\"></div><div style=\"display: table-cell;\">outline_line_color&nbsp;=&nbsp;'#e5e5e5',</div></div><div class=\"1103\" style=\"display: none;\"><div style=\"display: table-cell;\"></div><div style=\"display: table-cell;\">outline_line_dash&nbsp;=&nbsp;[],</div></div><div class=\"1103\" style=\"display: none;\"><div style=\"display: table-cell;\"></div><div style=\"display: table-cell;\">outline_line_dash_offset&nbsp;=&nbsp;0,</div></div><div class=\"1103\" style=\"display: none;\"><div style=\"display: table-cell;\"></div><div style=\"display: table-cell;\">outline_line_join&nbsp;=&nbsp;'bevel',</div></div><div class=\"1103\" style=\"display: none;\"><div style=\"display: table-cell;\"></div><div style=\"display: table-cell;\">outline_line_width&nbsp;=&nbsp;1,</div></div><div class=\"1103\" style=\"display: none;\"><div style=\"display: table-cell;\"></div><div style=\"display: table-cell;\">output_backend&nbsp;=&nbsp;'canvas',</div></div><div class=\"1103\" style=\"display: none;\"><div style=\"display: table-cell;\"></div><div style=\"display: table-cell;\">plot_height&nbsp;=&nbsp;400,</div></div><div class=\"1103\" style=\"display: none;\"><div style=\"display: table-cell;\"></div><div style=\"display: table-cell;\">plot_width&nbsp;=&nbsp;500,</div></div><div class=\"1103\" style=\"display: none;\"><div style=\"display: table-cell;\"></div><div style=\"display: table-cell;\">renderers&nbsp;=&nbsp;[GlyphRenderer(id='1036', ...)],</div></div><div class=\"1103\" style=\"display: none;\"><div style=\"display: table-cell;\"></div><div style=\"display: table-cell;\">reset_policy&nbsp;=&nbsp;'standard',</div></div><div class=\"1103\" style=\"display: none;\"><div style=\"display: table-cell;\"></div><div style=\"display: table-cell;\">right&nbsp;=&nbsp;[],</div></div><div class=\"1103\" style=\"display: none;\"><div style=\"display: table-cell;\"></div><div style=\"display: table-cell;\">sizing_mode&nbsp;=&nbsp;None,</div></div><div class=\"1103\" style=\"display: none;\"><div style=\"display: table-cell;\"></div><div style=\"display: table-cell;\">subscribed_events&nbsp;=&nbsp;[],</div></div><div class=\"1103\" style=\"display: none;\"><div style=\"display: table-cell;\"></div><div style=\"display: table-cell;\">tags&nbsp;=&nbsp;[],</div></div><div class=\"1103\" style=\"display: none;\"><div style=\"display: table-cell;\"></div><div style=\"display: table-cell;\">title&nbsp;=&nbsp;Title(id='1040', ...),</div></div><div class=\"1103\" style=\"display: none;\"><div style=\"display: table-cell;\"></div><div style=\"display: table-cell;\">title_location&nbsp;=&nbsp;'above',</div></div><div class=\"1103\" style=\"display: none;\"><div style=\"display: table-cell;\"></div><div style=\"display: table-cell;\">toolbar&nbsp;=&nbsp;Toolbar(id='1026', ...),</div></div><div class=\"1103\" style=\"display: none;\"><div style=\"display: table-cell;\"></div><div style=\"display: table-cell;\">toolbar_location&nbsp;=&nbsp;'right',</div></div><div class=\"1103\" style=\"display: none;\"><div style=\"display: table-cell;\"></div><div style=\"display: table-cell;\">toolbar_sticky&nbsp;=&nbsp;True,</div></div><div class=\"1103\" style=\"display: none;\"><div style=\"display: table-cell;\"></div><div style=\"display: table-cell;\">visible&nbsp;=&nbsp;True,</div></div><div class=\"1103\" style=\"display: none;\"><div style=\"display: table-cell;\"></div><div style=\"display: table-cell;\">width&nbsp;=&nbsp;None,</div></div><div class=\"1103\" style=\"display: none;\"><div style=\"display: table-cell;\"></div><div style=\"display: table-cell;\">width_policy&nbsp;=&nbsp;'auto',</div></div><div class=\"1103\" style=\"display: none;\"><div style=\"display: table-cell;\"></div><div style=\"display: table-cell;\">x_range&nbsp;=&nbsp;DataRange1d(id='1003', ...),</div></div><div class=\"1103\" style=\"display: none;\"><div style=\"display: table-cell;\"></div><div style=\"display: table-cell;\">x_scale&nbsp;=&nbsp;LinearScale(id='1007', ...),</div></div><div class=\"1103\" style=\"display: none;\"><div style=\"display: table-cell;\"></div><div style=\"display: table-cell;\">y_range&nbsp;=&nbsp;DataRange1d(id='1005', ...),</div></div><div class=\"1103\" style=\"display: none;\"><div style=\"display: table-cell;\"></div><div style=\"display: table-cell;\">y_scale&nbsp;=&nbsp;LinearScale(id='1009', ...))</div></div></div>\n",
              "<script>\n",
              "(function() {\n",
              "  var expanded = false;\n",
              "  var ellipsis = document.getElementById(\"1104\");\n",
              "  ellipsis.addEventListener(\"click\", function() {\n",
              "    var rows = document.getElementsByClassName(\"1103\");\n",
              "    for (var i = 0; i < rows.length; i++) {\n",
              "      var el = rows[i];\n",
              "      el.style.display = expanded ? \"none\" : \"table-row\";\n",
              "    }\n",
              "    ellipsis.innerHTML = expanded ? \"&hellip;)\" : \"&lsaquo;&lsaquo;&lsaquo;\";\n",
              "    expanded = !expanded;\n",
              "  });\n",
              "})();\n",
              "</script>\n"
            ],
            "text/plain": [
              "Figure(id='1002', ...)"
            ]
          },
          "metadata": {
            "tags": []
          },
          "execution_count": 35
        }
      ]
    },
    {
      "cell_type": "markdown",
      "metadata": {
        "id": "wGm7UCojwRR5"
      },
      "source": [
        "Анализируя, получилось найти довольно большое количество зависимостей, которые показывают, что модели строятся вполне логично, а именно:\n",
        "\n",
        "*   В верхней правой области вместе расположились названия функций, которые склеились в целиковые слова. Хоть они совсем и разные по смыслу модель определила их вместе\n",
        "*   Аналогично модель поступила и с тегами html, которые сгруппировались справа посередине.\n",
        "*   Довольно интересно ушли в сторону override, void, int, которые точно встречаются часто, но видимо из-за того что это объявление функций и обычно вокруг них куча символов или склеившиеся названия функция, они отошли в сторонку. Аналогичная ситуация со словами project, app, service. Так что популярные слова, не обязательно в центре основного ядра.\n",
        "* Из интересного внутри: aws (amazon web service), находится рядом с reactjs, connect, request. Что в большей части имеет логику; Близко находятся week, minute, time; и т.д\n",
        "\n",
        "Все это доказывает неплохое построение модели.\n",
        "\n",
        "\n"
      ]
    },
    {
      "cell_type": "code",
      "metadata": {
        "id": "KErkafFeR_Bc"
      },
      "source": [
        "my_word2vec = word2vec_sentence(w2v_full_data, w2v_model)\n",
        "del w2v_model"
      ],
      "execution_count": 36,
      "outputs": []
    },
    {
      "cell_type": "markdown",
      "metadata": {
        "id": "nErh5mIooHr9"
      },
      "source": [
        "## ML Models"
      ]
    },
    {
      "cell_type": "markdown",
      "metadata": {
        "id": "4HXun-wdyWaH"
      },
      "source": [
        "Сразу понимаю, как долго будет все это считаться, то, что придется ставить ночью и это может вылететь. Было принято решение написать \"архитектуру\", которая автоматически сохраняет при подсчете любую модель в таблички csv, хранящиеся на гугл диске. Также это позволяет параллельно тестировать на разных объемах, так как всегда создаются разные таблицы. Нам кажется что это дало нам уверенности, что можно спать и на утро у нас не сгорит ****.\n",
        "\n",
        "Примерно вот так все это выглядело в конце экспериментов:\n",
        "\n",
        "![Снимок экрана 2020-11-26 212459.jpg](data:image/jpeg;base64,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)\n"
      ]
    },
    {
      "cell_type": "markdown",
      "metadata": {
        "id": "lNqSCJS3z0TE"
      },
      "source": [
        "Функции загрузки и выгрузки на гугл диск"
      ]
    },
    {
      "cell_type": "code",
      "metadata": {
        "id": "1xLbDX7Cazyt"
      },
      "source": [
        "RESULT_DIR = \"/content/drive/MyDrive/NLP/result/\"\n",
        "def dict_to_csv(best_classifiers, time_list, accuracy_classifier, sample_size):\n",
        "  pd.DataFrame(best_classifiers).to_csv(RESULT_DIR+f\"best_classifiers{sample_size}.csv\")\n",
        "  pd.DataFrame(time_list).to_csv(RESULT_DIR+f\"time_classifiers{sample_size}.csv\")\n",
        "  pd.DataFrame(accuracy_classifier).to_csv(RESULT_DIR+f\"accuracy_classifiers{sample_size}.csv\")\n",
        "\n",
        "def read_all_csv(sample_size):\n",
        "  best_classifiers = dict(zip(classifiers, [dict(zip(list_embeddings, [None for lt in list_embeddings])) for cl in classifiers]))\n",
        "  accuracy_classifier = dict(zip(classifiers, [dict(zip(list_embeddings, [None for lt in list_embeddings])) for cl in classifiers]))\n",
        "  time_list = dict(zip(classifiers, [dict(zip(list_embeddings, [None for lt in list_embeddings])) for cl in classifiers]))\n",
        "  return best_classifiers, accuracy_classifier, time_list"
      ],
      "execution_count": 39,
      "outputs": []
    },
    {
      "cell_type": "markdown",
      "metadata": {
        "id": "Ry_rNVuhz5Sq"
      },
      "source": [
        "Проходка по словарям и замена значений"
      ]
    },
    {
      "cell_type": "code",
      "metadata": {
        "id": "lpov7d6_oJ1_"
      },
      "source": [
        "def dict_iteration(diction, best_classifiers, accuracy_classifier, time_list, value):\n",
        "  for clf_name, clf in diction.items():\n",
        "    for emb_name in diction[clf_name]:\n",
        "      best_classifiers[clf_name][emb_name] = value\n",
        "      time_list[clf_name][emb_name] = value\n",
        "      accuracy_classifier[clf_name][emb_name] = value \n",
        "  return best_classifiers, accuracy_classifier, time_list"
      ],
      "execution_count": 40,
      "outputs": []
    },
    {
      "cell_type": "markdown",
      "metadata": {
        "id": "TNJIOHRaz-4N"
      },
      "source": [
        "Все embeddings после сплита"
      ]
    },
    {
      "cell_type": "code",
      "metadata": {
        "id": "Ssk5VpoivOSv"
      },
      "source": [
        "y = train['target']\n",
        "\n",
        "embeddings = {'OneHotEncoding': (train_test_split(one_hot_vectorized, y, test_size=0.2, random_state=42)),\n",
        "              'tf_idf': (train_test_split(train_tf_idf_vectors, y, test_size=0.2, random_state=42)),\n",
        "              'own_word2vec': (train_test_split(my_word2vec, y, test_size=0.2, random_state=42)),\n",
        "              'pretrained_fasttext': (train_test_split(train_fasttext_vectors, y, test_size=0.2, random_state=42)),\n",
        "              'own_fasttext': (train_test_split(train_own_fasttext_vectors, y, test_size=0.2, random_state=42)),} "
      ],
      "execution_count": 41,
      "outputs": []
    },
    {
      "cell_type": "markdown",
      "metadata": {
        "id": "OPJ_tgOM0E7z"
      },
      "source": [
        "Классификаторы и подбираемые в дальнейшем гиперпараметры, а также словари с данными для удаления (чтоб пересчитать), и блокируемые данные, которые считаются годами"
      ]
    },
    {
      "cell_type": "code",
      "metadata": {
        "id": "DRQmJ_mIrBdI"
      },
      "source": [
        "classifiers = {'KNN': KNeighborsClassifier(),\n",
        "               'SVM': SVC(),\n",
        "               'DecisionTree': DecisionTreeClassifier(),\n",
        "               'RandomForest': RandomForestClassifier(),\n",
        "               'Adaboost': AdaBoostClassifier(),\n",
        "               'XGBoost': XGBClassifier()}\n",
        "\n",
        "parameters = {'KNN': {'n_neighbors' : np.arange(3, 20, 2),\n",
        "                       'weights' : ['uniform', 'distance'],\n",
        "                       'p' : [1, 2]},\n",
        "              'SVM': {'kernel' : ['linear', 'poly', 'sigmoid'],\n",
        "                      'random_state' : [42]},\n",
        "              'DecisionTree': {'max_depth': np.arange(2, 20, 2),\n",
        "                               'random_state': [42],\n",
        "                               'max_features': ['auto', 'sqrt', 'log2']},\n",
        "              'RandomForest': {'max_depth': np.arange(2, 20, 2),\n",
        "                               'random_state': [42]},\n",
        "              'Adaboost': {'base_estimator': [RandomForestClassifier(max_depth=10), DecisionTreeClassifier(max_depth=10)],\n",
        "                           'n_estimators': [100, 500],\n",
        "                           'random_state': [42]},\n",
        "              'XGBoost': {'max_depth':[1, 5], \n",
        "                          'learning_rate':[0.1, 1], \n",
        "                          'n_estimators':[10, 100],\n",
        "                          'random_state': [42]}}\n",
        "\n",
        "error_models_dict = {'SVM': ['pretrained_fasttext', 'own_fasttext'],}\n",
        "\n",
        "list_embeddings = list(embeddings.keys())\n",
        "\n",
        "action = \"add\"\n",
        "\n",
        "dict_of_deleting = {'Adaboost': list_embeddings, }"
      ],
      "execution_count": 42,
      "outputs": []
    },
    {
      "cell_type": "code",
      "metadata": {
        "id": "5X19Y6J431EZ"
      },
      "source": [
        "if not os.path.exists(RESULT_DIR+f\"best_classifiers{sample_size}.csv\"):\n",
        "  best_classifiers, accuracy_classifier, time_list = read_all_csv(sample_size)\n",
        "elif action == \"delete\":\n",
        "  best_classifiers, accuracy_classifier, time_list = read_all_csv(sample_size)\n",
        "  best_classifiers, accuracy_classifier, time_list = dict_iteration(dict_of_deleting, best_classifiers, accuracy_classifier, time_list, None)\n",
        "elif action == \"add\":\n",
        "  classifiers_df, accuracy_df, time_df = read_all_csv(sample_size)\n",
        "  for classifier in classifiers:\n",
        "    best_classifiers = dict(zip(classifiers, [dict(zip(list_embeddings, list(classifiers_df[classifier]))) for classifier in classifiers]))\n",
        "    accuracy_classifier = dict(zip(classifiers, [dict(zip(list_embeddings, list(accuracy_df[classifier]))) for classifier in classifiers]))\n",
        "    time_list = dict(zip(classifiers, [dict(zip(list_embeddings, list(time_df[classifier]))) for classifier in classifiers]))\n",
        "dict_to_csv(best_classifiers, time_list, accuracy_classifier, sample_size)"
      ],
      "execution_count": null,
      "outputs": []
    },
    {
      "cell_type": "code",
      "metadata": {
        "id": "_lQdKtWgZyUn"
      },
      "source": [
        "for clf_name, clf in classifiers.items():\n",
        "  for emb_name, embedding in embeddings.items():\n",
        "    if best_classifiers[clf_name][emb_name] == -1:\n",
        "      best_classifiers[clf_name][emb_name] = None\n",
        "      time_list[clf_name][emb_name] = None\n",
        "      accuracy_classifier[clf_name][emb_name] = None\n",
        "best_classifiers, accuracy_classifier, time_list = dict_iteration(error_models_dict, best_classifiers, accuracy_classifier, time_list, -1)\n",
        "dict_to_csv(best_classifiers, time_list, accuracy_classifier, sample_size)"
      ],
      "execution_count": 41,
      "outputs": []
    },
    {
      "cell_type": "markdown",
      "metadata": {
        "id": "cyVEccrO0VN6"
      },
      "source": [
        "Основной код с небольшой визуализацией прошедшего процесса, чтоб можно было встать в 4 утра и понять насколько все плохо"
      ]
    },
    {
      "cell_type": "code",
      "metadata": {
        "id": "3hM2AGy2qOI-"
      },
      "source": [
        "progress_clf = IntProgress(min=0, max=len(classifiers))\n",
        "progress_clf.value = 0\n",
        "progress_emb = IntProgress(min=0, max=len(embeddings))\n",
        "progress_emb.value = 0\n",
        "display(progress_clf)\n",
        "display(progress_emb)\n",
        "for clf_name, clf in classifiers.items():\n",
        "  progress_clf.description = clf_name\n",
        "  for emb_name, embedding in embeddings.items():\n",
        "    if best_classifiers[clf_name][emb_name] is None or pd.isnull(best_classifiers[clf_name][emb_name]):\n",
        "      progress_emb.description = emb_name\n",
        "      start_time = time.time()\n",
        "      best_clf = GridSearchCV(clf, param_grid=parameters[clf_name])\n",
        "      best_clf.fit(embedding[0], embedding[2])\n",
        "\n",
        "      best_classifiers[clf_name][emb_name] = best_clf\n",
        "      time_list[clf_name][emb_name] = time.time() - start_time\n",
        "      accuracy_classifier[clf_name][emb_name] = accuracy_score(embedding[3], best_clf.predict(embedding[1]))\n",
        "      dict_to_csv(best_classifiers, time_list, accuracy_classifier, sample_size)\n",
        "    progress_emb.value += 1\n",
        "  progress_emb.value = 0\n",
        "  progress_clf.value += 1"
      ],
      "execution_count": null,
      "outputs": []
    },
    {
      "cell_type": "markdown",
      "metadata": {
        "id": "R3NJd9TAwfNS"
      },
      "source": [
        "## Neural network"
      ]
    },
    {
      "cell_type": "markdown",
      "metadata": {
        "id": "RwXtHw9w0svD"
      },
      "source": [
        "Была создана полносвязная нейронная сеть."
      ]
    },
    {
      "cell_type": "code",
      "metadata": {
        "id": "kysdeRuf3Gbq"
      },
      "source": [
        "X = train.Text.values\n",
        "Y = train.target.values\n",
        "\n",
        "X_train_raw, X_test_raw, Y_train, Y_test = train_test_split(X, Y, test_size=0.2, random_state=42)\n",
        "\n",
        "count_words = embeddings['tf_idf'][0].shape[1]\n",
        "\n",
        "tokenizer = Tokenizer(num_words=count_words)\n",
        "tokenizer.fit_on_texts(X_train_raw)\n",
        "\n",
        "X_train = tokenizer.texts_to_sequences(X_train_raw)\n",
        "X_test = tokenizer.texts_to_sequences(X_test_raw)\n",
        "\n",
        "X_train = pad_sequences(X_train, padding='post', maxlen=200)\n",
        "X_test = pad_sequences(X_test, padding='post', maxlen=200)\n",
        "\n",
        "Y_train = to_categorical(Y_train, 3)\n",
        "Y_test = to_categorical(Y_test, 3)"
      ],
      "execution_count": null,
      "outputs": []
    },
    {
      "cell_type": "code",
      "metadata": {
        "id": "Z4wUuvxL3H02"
      },
      "source": [
        "model = Sequential()\n",
        "model.add(Embedding(input_dim=count_words, output_dim=300, input_length=200))\n",
        "model.add(Conv1D(128, 5, activation='relu'))\n",
        "model.add(Conv1D(64, 5, activation='sigmoid'))\n",
        "model.add(Conv1D(32, 5, activation='relu'))\n",
        "model.add(GlobalMaxPooling1D())\n",
        "model.add(Flatten())\n",
        "model.add(Dense(100))\n",
        "model.add(Dense(3))\n",
        "model.add(Activation('softmax'))\n",
        "model.compile(optimizer='adam', loss='categorical_crossentropy', metrics=['accuracy'])"
      ],
      "execution_count": null,
      "outputs": []
    },
    {
      "cell_type": "code",
      "metadata": {
        "id": "nbrURjd18mba"
      },
      "source": [
        "plot_model(model, show_shapes=True)"
      ],
      "execution_count": null,
      "outputs": []
    },
    {
      "cell_type": "code",
      "metadata": {
        "colab": {
          "base_uri": "https://localhost:8080/"
        },
        "id": "9bwGHX4zHxVQ",
        "outputId": "dab5900c-6228-4c92-e814-cdf4d74b9412"
      },
      "source": [
        "model.fit(X_train, Y_train, epochs=10, verbose=True, validation_data=(X_test, Y_test), batch_size=128)"
      ],
      "execution_count": null,
      "outputs": [
        {
          "output_type": "stream",
          "text": [
            "Epoch 1/10\n",
            "300/300 [==============================] - 420s 1s/step - loss: 0.8394 - accuracy: 0.5641 - val_loss: 0.7317 - val_accuracy: 0.6496\n",
            "Epoch 2/10\n",
            "300/300 [==============================] - 414s 1s/step - loss: 0.6220 - accuracy: 0.7138 - val_loss: 0.7333 - val_accuracy: 0.6665\n",
            "Epoch 3/10\n",
            "300/300 [==============================] - 414s 1s/step - loss: 0.4388 - accuracy: 0.8179 - val_loss: 0.8218 - val_accuracy: 0.6529\n",
            "Epoch 4/10\n",
            "300/300 [==============================] - 422s 1s/step - loss: 0.2753 - accuracy: 0.8930 - val_loss: 1.0142 - val_accuracy: 0.6373\n",
            "Epoch 5/10\n",
            "300/300 [==============================] - 416s 1s/step - loss: 0.1599 - accuracy: 0.9412 - val_loss: 1.2093 - val_accuracy: 0.6361\n",
            "Epoch 6/10\n",
            "300/300 [==============================] - 418s 1s/step - loss: 0.0916 - accuracy: 0.9669 - val_loss: 1.4567 - val_accuracy: 0.6264\n",
            "Epoch 7/10\n",
            "300/300 [==============================] - 417s 1s/step - loss: 0.0537 - accuracy: 0.9812 - val_loss: 1.8228 - val_accuracy: 0.6292\n",
            "Epoch 8/10\n",
            "300/300 [==============================] - 418s 1s/step - loss: 0.0367 - accuracy: 0.9874 - val_loss: 2.0647 - val_accuracy: 0.6306\n",
            "Epoch 9/10\n",
            "300/300 [==============================] - 414s 1s/step - loss: 0.0262 - accuracy: 0.9910 - val_loss: 2.3805 - val_accuracy: 0.6185\n",
            "Epoch 10/10\n",
            "300/300 [==============================] - 413s 1s/step - loss: 0.0182 - accuracy: 0.9936 - val_loss: 2.6068 - val_accuracy: 0.6219\n"
          ],
          "name": "stdout"
        },
        {
          "output_type": "execute_result",
          "data": {
            "text/plain": [
              "<tensorflow.python.keras.callbacks.History at 0x7ff41c0cf358>"
            ]
          },
          "metadata": {
            "tags": []
          },
          "execution_count": 211
        }
      ]
    },
    {
      "cell_type": "code",
      "metadata": {
        "colab": {
          "base_uri": "https://localhost:8080/"
        },
        "id": "IftP_mOhDYqu",
        "outputId": "a085c346-dedc-4b6d-a18f-ed3a3e649324"
      },
      "source": [
        "loss, accuracy = model.evaluate(X_train, Y_train, verbose=False)\n",
        "print(\"Training Accuracy: {:.4f}\".format(accuracy))\n",
        "loss, accuracy = model.evaluate(X_test, Y_test, verbose=False)\n",
        "print(\"Testing Accuracy: {:.4f}\".format(accuracy))"
      ],
      "execution_count": null,
      "outputs": [
        {
          "output_type": "stream",
          "text": [
            "Training Accuracy: 0.9950\n",
            "Testing Accuracy: 0.6070\n"
          ],
          "name": "stdout"
        }
      ]
    },
    {
      "cell_type": "markdown",
      "metadata": {
        "id": "Aj8Cpup01JS-"
      },
      "source": [
        "Мы подбирали какое количество скрытых слоев, и с каким изменением величины сетки лучше всего подходит для этих данных. И почему то здесь не работалос \"чем больше, тем лучше\". Оптимальным оказалась представленная модель, единственное она начинает переобучаться после 2 эпохе. Именно в этот момент наименьшее расстояние между точностью валидационно и тестируемой."
      ]
    },
    {
      "cell_type": "markdown",
      "metadata": {
        "id": "9kydf9ok1s03"
      },
      "source": [
        "## ИТОГИ И ВЫВОДЫ"
      ]
    },
    {
      "cell_type": "markdown",
      "metadata": {
        "id": "AHTUWdsI4FzL"
      },
      "source": [
        "Проанализируем данные 10000 и 48000, так как промежуточные 20к почти не отличаются от 10к, только считались дольше, и небольшой прирост точности в некоторых методах."
      ]
    },
    {
      "cell_type": "code",
      "metadata": {
        "id": "_P3yq5qF2kkA"
      },
      "source": [
        "accuracy_10000 = pd.read_csv(RESULT_DIR+f\"accuracy_classifiers10000.csv\")\n",
        "accuracy_48000 = pd.read_csv(RESULT_DIR+f\"accuracy_classifiers48000.csv\")\n",
        "time_10000 = pd.read_csv(RESULT_DIR+f\"time_classifiers10000.csv\")"
      ],
      "execution_count": 51,
      "outputs": []
    },
    {
      "cell_type": "code",
      "metadata": {
        "colab": {
          "base_uri": "https://localhost:8080/",
          "height": 202
        },
        "id": "w_xW6WKB4d5l",
        "outputId": "08fc1cf4-188f-4bd3-8a9b-86730ea7c046"
      },
      "source": [
        "accuracy_10000"
      ],
      "execution_count": 49,
      "outputs": [
        {
          "output_type": "execute_result",
          "data": {
            "text/html": [
              "<div>\n",
              "<style scoped>\n",
              "    .dataframe tbody tr th:only-of-type {\n",
              "        vertical-align: middle;\n",
              "    }\n",
              "\n",
              "    .dataframe tbody tr th {\n",
              "        vertical-align: top;\n",
              "    }\n",
              "\n",
              "    .dataframe thead th {\n",
              "        text-align: right;\n",
              "    }\n",
              "</style>\n",
              "<table border=\"1\" class=\"dataframe\">\n",
              "  <thead>\n",
              "    <tr style=\"text-align: right;\">\n",
              "      <th></th>\n",
              "      <th>Unnamed: 0</th>\n",
              "      <th>KNN</th>\n",
              "      <th>SVM</th>\n",
              "      <th>DecisionTree</th>\n",
              "      <th>RandomForest</th>\n",
              "      <th>Adaboost</th>\n",
              "      <th>XGBoost</th>\n",
              "    </tr>\n",
              "  </thead>\n",
              "  <tbody>\n",
              "    <tr>\n",
              "      <th>0</th>\n",
              "      <td>OneHotEncoding</td>\n",
              "      <td>0.4570</td>\n",
              "      <td>0.6045</td>\n",
              "      <td>0.4335</td>\n",
              "      <td>0.6170</td>\n",
              "      <td>0.6405</td>\n",
              "      <td>0.6365</td>\n",
              "    </tr>\n",
              "    <tr>\n",
              "      <th>1</th>\n",
              "      <td>tf_idf</td>\n",
              "      <td>0.5830</td>\n",
              "      <td>0.6565</td>\n",
              "      <td>0.3965</td>\n",
              "      <td>0.6080</td>\n",
              "      <td>0.6505</td>\n",
              "      <td>0.6310</td>\n",
              "    </tr>\n",
              "    <tr>\n",
              "      <th>2</th>\n",
              "      <td>own_word2vec</td>\n",
              "      <td>0.5810</td>\n",
              "      <td>0.5955</td>\n",
              "      <td>0.5280</td>\n",
              "      <td>0.5895</td>\n",
              "      <td>0.6110</td>\n",
              "      <td>0.6140</td>\n",
              "    </tr>\n",
              "    <tr>\n",
              "      <th>3</th>\n",
              "      <td>pretrained_fasttext</td>\n",
              "      <td>0.4470</td>\n",
              "      <td>-1.0000</td>\n",
              "      <td>0.4275</td>\n",
              "      <td>0.4855</td>\n",
              "      <td>0.4735</td>\n",
              "      <td>0.4830</td>\n",
              "    </tr>\n",
              "    <tr>\n",
              "      <th>4</th>\n",
              "      <td>own_fasttext</td>\n",
              "      <td>0.4365</td>\n",
              "      <td>-1.0000</td>\n",
              "      <td>0.4330</td>\n",
              "      <td>0.4815</td>\n",
              "      <td>0.4805</td>\n",
              "      <td>0.4850</td>\n",
              "    </tr>\n",
              "  </tbody>\n",
              "</table>\n",
              "</div>"
            ],
            "text/plain": [
              "            Unnamed: 0     KNN     SVM  ...  RandomForest  Adaboost  XGBoost\n",
              "0       OneHotEncoding  0.4570  0.6045  ...        0.6170    0.6405   0.6365\n",
              "1               tf_idf  0.5830  0.6565  ...        0.6080    0.6505   0.6310\n",
              "2         own_word2vec  0.5810  0.5955  ...        0.5895    0.6110   0.6140\n",
              "3  pretrained_fasttext  0.4470 -1.0000  ...        0.4855    0.4735   0.4830\n",
              "4         own_fasttext  0.4365 -1.0000  ...        0.4815    0.4805   0.4850\n",
              "\n",
              "[5 rows x 7 columns]"
            ]
          },
          "metadata": {
            "tags": []
          },
          "execution_count": 49
        }
      ]
    },
    {
      "cell_type": "code",
      "metadata": {
        "colab": {
          "base_uri": "https://localhost:8080/",
          "height": 202
        },
        "id": "OgvT1FTR4fF6",
        "outputId": "1afb8a69-2785-4db6-891e-fc913310e181"
      },
      "source": [
        "accuracy_48000"
      ],
      "execution_count": 50,
      "outputs": [
        {
          "output_type": "execute_result",
          "data": {
            "text/html": [
              "<div>\n",
              "<style scoped>\n",
              "    .dataframe tbody tr th:only-of-type {\n",
              "        vertical-align: middle;\n",
              "    }\n",
              "\n",
              "    .dataframe tbody tr th {\n",
              "        vertical-align: top;\n",
              "    }\n",
              "\n",
              "    .dataframe thead th {\n",
              "        text-align: right;\n",
              "    }\n",
              "</style>\n",
              "<table border=\"1\" class=\"dataframe\">\n",
              "  <thead>\n",
              "    <tr style=\"text-align: right;\">\n",
              "      <th></th>\n",
              "      <th>Unnamed: 0</th>\n",
              "      <th>KNN</th>\n",
              "      <th>SVM</th>\n",
              "      <th>DecisionTree</th>\n",
              "      <th>RandomForest</th>\n",
              "      <th>Adaboost</th>\n",
              "      <th>XGBoost</th>\n",
              "    </tr>\n",
              "  </thead>\n",
              "  <tbody>\n",
              "    <tr>\n",
              "      <th>0</th>\n",
              "      <td>OneHotEncoding</td>\n",
              "      <td>0.473125</td>\n",
              "      <td>-1</td>\n",
              "      <td>0.395833</td>\n",
              "      <td>0.615729</td>\n",
              "      <td>-1</td>\n",
              "      <td>-1</td>\n",
              "    </tr>\n",
              "    <tr>\n",
              "      <th>1</th>\n",
              "      <td>tf_idf</td>\n",
              "      <td>0.584896</td>\n",
              "      <td>-1</td>\n",
              "      <td>0.393750</td>\n",
              "      <td>0.613854</td>\n",
              "      <td>-1</td>\n",
              "      <td>-1</td>\n",
              "    </tr>\n",
              "    <tr>\n",
              "      <th>2</th>\n",
              "      <td>own_word2vec</td>\n",
              "      <td>0.618125</td>\n",
              "      <td>-1</td>\n",
              "      <td>0.547083</td>\n",
              "      <td>0.630208</td>\n",
              "      <td>-1</td>\n",
              "      <td>-1</td>\n",
              "    </tr>\n",
              "    <tr>\n",
              "      <th>3</th>\n",
              "      <td>pretrained_fasttext</td>\n",
              "      <td>0.442708</td>\n",
              "      <td>-1</td>\n",
              "      <td>0.431146</td>\n",
              "      <td>0.466667</td>\n",
              "      <td>-1</td>\n",
              "      <td>-1</td>\n",
              "    </tr>\n",
              "    <tr>\n",
              "      <th>4</th>\n",
              "      <td>own_fasttext</td>\n",
              "      <td>0.446146</td>\n",
              "      <td>-1</td>\n",
              "      <td>0.431667</td>\n",
              "      <td>0.470729</td>\n",
              "      <td>-1</td>\n",
              "      <td>-1</td>\n",
              "    </tr>\n",
              "  </tbody>\n",
              "</table>\n",
              "</div>"
            ],
            "text/plain": [
              "            Unnamed: 0       KNN  SVM  ...  RandomForest  Adaboost  XGBoost\n",
              "0       OneHotEncoding  0.473125   -1  ...      0.615729        -1       -1\n",
              "1               tf_idf  0.584896   -1  ...      0.613854        -1       -1\n",
              "2         own_word2vec  0.618125   -1  ...      0.630208        -1       -1\n",
              "3  pretrained_fasttext  0.442708   -1  ...      0.466667        -1       -1\n",
              "4         own_fasttext  0.446146   -1  ...      0.470729        -1       -1\n",
              "\n",
              "[5 rows x 7 columns]"
            ]
          },
          "metadata": {
            "tags": []
          },
          "execution_count": 50
        }
      ]
    },
    {
      "cell_type": "markdown",
      "metadata": {
        "id": "D5Nbd1FI4iAZ"
      },
      "source": [
        "Для полноты картины добавим время подсчета для 10к, для 48к пропорционально дольше в экспоненциальной (геометрической, или какой то еще прогрессии), в общем очень долго"
      ]
    },
    {
      "cell_type": "code",
      "metadata": {
        "colab": {
          "base_uri": "https://localhost:8080/",
          "height": 202
        },
        "id": "1qLd1tON42hV",
        "outputId": "49420b27-12e9-4f57-be0d-c30850befdc6"
      },
      "source": [
        "time_10000"
      ],
      "execution_count": 52,
      "outputs": [
        {
          "output_type": "execute_result",
          "data": {
            "text/html": [
              "<div>\n",
              "<style scoped>\n",
              "    .dataframe tbody tr th:only-of-type {\n",
              "        vertical-align: middle;\n",
              "    }\n",
              "\n",
              "    .dataframe tbody tr th {\n",
              "        vertical-align: top;\n",
              "    }\n",
              "\n",
              "    .dataframe thead th {\n",
              "        text-align: right;\n",
              "    }\n",
              "</style>\n",
              "<table border=\"1\" class=\"dataframe\">\n",
              "  <thead>\n",
              "    <tr style=\"text-align: right;\">\n",
              "      <th></th>\n",
              "      <th>Unnamed: 0</th>\n",
              "      <th>KNN</th>\n",
              "      <th>SVM</th>\n",
              "      <th>DecisionTree</th>\n",
              "      <th>RandomForest</th>\n",
              "      <th>Adaboost</th>\n",
              "      <th>XGBoost</th>\n",
              "    </tr>\n",
              "  </thead>\n",
              "  <tbody>\n",
              "    <tr>\n",
              "      <th>0</th>\n",
              "      <td>OneHotEncoding</td>\n",
              "      <td>454.905654</td>\n",
              "      <td>311.109279</td>\n",
              "      <td>5.253603</td>\n",
              "      <td>75.998464</td>\n",
              "      <td>4610.062262</td>\n",
              "      <td>649.760697</td>\n",
              "    </tr>\n",
              "    <tr>\n",
              "      <th>1</th>\n",
              "      <td>tf_idf</td>\n",
              "      <td>451.285936</td>\n",
              "      <td>316.001148</td>\n",
              "      <td>3.743269</td>\n",
              "      <td>77.160382</td>\n",
              "      <td>4908.235129</td>\n",
              "      <td>747.281651</td>\n",
              "    </tr>\n",
              "    <tr>\n",
              "      <th>2</th>\n",
              "      <td>own_word2vec</td>\n",
              "      <td>338.170762</td>\n",
              "      <td>90.731942</td>\n",
              "      <td>6.556751</td>\n",
              "      <td>143.372739</td>\n",
              "      <td>8021.187110</td>\n",
              "      <td>310.124990</td>\n",
              "    </tr>\n",
              "    <tr>\n",
              "      <th>3</th>\n",
              "      <td>pretrained_fasttext</td>\n",
              "      <td>243.173603</td>\n",
              "      <td>-1.000000</td>\n",
              "      <td>10.573518</td>\n",
              "      <td>247.435415</td>\n",
              "      <td>7812.007800</td>\n",
              "      <td>873.947500</td>\n",
              "    </tr>\n",
              "    <tr>\n",
              "      <th>4</th>\n",
              "      <td>own_fasttext</td>\n",
              "      <td>338.361952</td>\n",
              "      <td>-1.000000</td>\n",
              "      <td>10.595346</td>\n",
              "      <td>243.290683</td>\n",
              "      <td>5981.552705</td>\n",
              "      <td>812.249974</td>\n",
              "    </tr>\n",
              "  </tbody>\n",
              "</table>\n",
              "</div>"
            ],
            "text/plain": [
              "            Unnamed: 0         KNN  ...     Adaboost     XGBoost\n",
              "0       OneHotEncoding  454.905654  ...  4610.062262  649.760697\n",
              "1               tf_idf  451.285936  ...  4908.235129  747.281651\n",
              "2         own_word2vec  338.170762  ...  8021.187110  310.124990\n",
              "3  pretrained_fasttext  243.173603  ...  7812.007800  873.947500\n",
              "4         own_fasttext  338.361952  ...  5981.552705  812.249974\n",
              "\n",
              "[5 rows x 7 columns]"
            ]
          },
          "metadata": {
            "tags": []
          },
          "execution_count": 52
        }
      ]
    },
    {
      "cell_type": "markdown",
      "metadata": {
        "id": "HthdVKG843xh"
      },
      "source": [
        "Adaboost и XGBoost, вместе с нейросетью показывают хорошие результаты, но посчитать их на 48к абсолютно нереально, на adaboost на 20к один единственный метод считается от 5 до 8 часов. Поэтому будем искать метод идеальный по соотношению качество/время. И по нашему мнению таким является RandomForest на любой из первых 3 embeddings. Кстати такой факт, что fasttext везде показал себя просто ужасно. Если хочется посчитать моментально не не важна точность, то выбор определенно DecisionTree, на нем мы проверяли работу кода, так как подождать его намного проще, чем даже примитивные методы.\n",
        "\n",
        "Поэтому вывод: для определения финальных результатов будем использовать RandomForest с собственным word2vec (не зря ж его создавали), к тому же по графикам мы сами видели хорошие зависимости."
      ]
    },
    {
      "cell_type": "code",
      "metadata": {
        "colab": {
          "base_uri": "https://localhost:8080/",
          "height": 233
        },
        "id": "dwaCPe5u9ZQx",
        "outputId": "f746a596-acfe-4ce1-de86-bf184e224d95"
      },
      "source": [
        "train = preprocessed_train\n",
        "test = preprocessed_test\n",
        "full_data = pd.concat([train, test])\n",
        "full_data.head()"
      ],
      "execution_count": 113,
      "outputs": [
        {
          "output_type": "execute_result",
          "data": {
            "text/html": [
              "<div>\n",
              "<style scoped>\n",
              "    .dataframe tbody tr th:only-of-type {\n",
              "        vertical-align: middle;\n",
              "    }\n",
              "\n",
              "    .dataframe tbody tr th {\n",
              "        vertical-align: top;\n",
              "    }\n",
              "\n",
              "    .dataframe thead th {\n",
              "        text-align: right;\n",
              "    }\n",
              "</style>\n",
              "<table border=\"1\" class=\"dataframe\">\n",
              "  <thead>\n",
              "    <tr style=\"text-align: right;\">\n",
              "      <th></th>\n",
              "      <th>Tags</th>\n",
              "      <th>target</th>\n",
              "      <th>Text</th>\n",
              "    </tr>\n",
              "    <tr>\n",
              "      <th>Id</th>\n",
              "      <th></th>\n",
              "      <th></th>\n",
              "      <th></th>\n",
              "    </tr>\n",
              "  </thead>\n",
              "  <tbody>\n",
              "    <tr>\n",
              "      <th>34862324</th>\n",
              "      <td>java algorithm graph-algorithm</td>\n",
              "      <td>2.0</td>\n",
              "      <td>implementing minimum spanning forrest algorihm...</td>\n",
              "    </tr>\n",
              "    <tr>\n",
              "      <th>47303682</th>\n",
              "      <td>html r dataframe</td>\n",
              "      <td>2.0</td>\n",
              "      <td>r studio date getting converted number making ...</td>\n",
              "    </tr>\n",
              "    <tr>\n",
              "      <th>46431243</th>\n",
              "      <td>python pandas dataframe pandas-groupby</td>\n",
              "      <td>0.0</td>\n",
              "      <td>panda dataframe groupby get sum multiple colum...</td>\n",
              "    </tr>\n",
              "    <tr>\n",
              "      <th>45306324</th>\n",
              "      <td>angular typescript rxjs</td>\n",
              "      <td>0.0</td>\n",
              "      <td>casting result observableforkjoin respective t...</td>\n",
              "    </tr>\n",
              "    <tr>\n",
              "      <th>49479547</th>\n",
              "      <td>c windows batch-file</td>\n",
              "      <td>1.0</td>\n",
              "      <td>environment variable set batch file accessed c...</td>\n",
              "    </tr>\n",
              "  </tbody>\n",
              "</table>\n",
              "</div>"
            ],
            "text/plain": [
              "                                            Tags  ...                                               Text\n",
              "Id                                                ...                                                   \n",
              "34862324          java algorithm graph-algorithm  ...  implementing minimum spanning forrest algorihm...\n",
              "47303682                        html r dataframe  ...  r studio date getting converted number making ...\n",
              "46431243  python pandas dataframe pandas-groupby  ...  panda dataframe groupby get sum multiple colum...\n",
              "45306324                 angular typescript rxjs  ...  casting result observableforkjoin respective t...\n",
              "49479547                    c windows batch-file  ...  environment variable set batch file accessed c...\n",
              "\n",
              "[5 rows x 3 columns]"
            ]
          },
          "metadata": {
            "tags": []
          },
          "execution_count": 113
        }
      ]
    },
    {
      "cell_type": "code",
      "metadata": {
        "id": "uiQVajg09qp0"
      },
      "source": [
        "w2v_full_data = full_data.Text.apply(lambda x: x.split())\n",
        "w2v_train_data = train.Text.apply(lambda x: x.split())\n",
        "w2v_test_data = test.Text.apply(lambda x: x.split())\n",
        "w2v_model = Word2Vec(sentences=w2v_full_data, size=100, window=5, min_count=1, workers=4).wv\n",
        "X_train = word2vec_sentence(w2v_train_data, w2v_model)\n",
        "X_test = word2vec_sentence(w2v_test_data, w2v_model)\n",
        "Y_train = train['target']\n",
        "del w2v_model"
      ],
      "execution_count": 115,
      "outputs": []
    },
    {
      "cell_type": "code",
      "metadata": {
        "id": "1BXT7ib3Cty0"
      },
      "source": [
        "best_clf = GridSearchCV(RandomForestClassifier(), param_grid=parameters['RandomForest'])\n",
        "best_clf.fit(X_train, Y_train)\n",
        "prediction = best_clf.predict(X_test)"
      ],
      "execution_count": 124,
      "outputs": []
    },
    {
      "cell_type": "code",
      "metadata": {
        "colab": {
          "base_uri": "https://localhost:8080/",
          "height": 233
        },
        "id": "SHT35Y2TDYYs",
        "outputId": "bfd20ade-5de5-49c8-b46e-3d8117cf78b3"
      },
      "source": [
        "test_answer = test.copy()\n",
        "test_answer['Predicted'] = prediction\n",
        "test_answer = test_answer.drop(['Tags', 'Text'], axis=1)\n",
        "test_answer.to_csv(\"/content/drive/MyDrive/NLP/test.csv\")\n",
        "test_answer.head()"
      ],
      "execution_count": 134,
      "outputs": [
        {
          "output_type": "execute_result",
          "data": {
            "text/html": [
              "<div>\n",
              "<style scoped>\n",
              "    .dataframe tbody tr th:only-of-type {\n",
              "        vertical-align: middle;\n",
              "    }\n",
              "\n",
              "    .dataframe tbody tr th {\n",
              "        vertical-align: top;\n",
              "    }\n",
              "\n",
              "    .dataframe thead th {\n",
              "        text-align: right;\n",
              "    }\n",
              "</style>\n",
              "<table border=\"1\" class=\"dataframe\">\n",
              "  <thead>\n",
              "    <tr style=\"text-align: right;\">\n",
              "      <th></th>\n",
              "      <th>Predicted</th>\n",
              "    </tr>\n",
              "    <tr>\n",
              "      <th>Id</th>\n",
              "      <th></th>\n",
              "    </tr>\n",
              "  </thead>\n",
              "  <tbody>\n",
              "    <tr>\n",
              "      <th>46785369</th>\n",
              "      <td>0</td>\n",
              "    </tr>\n",
              "    <tr>\n",
              "      <th>38908667</th>\n",
              "      <td>0</td>\n",
              "    </tr>\n",
              "    <tr>\n",
              "      <th>44703012</th>\n",
              "      <td>0</td>\n",
              "    </tr>\n",
              "    <tr>\n",
              "      <th>34910435</th>\n",
              "      <td>0</td>\n",
              "    </tr>\n",
              "    <tr>\n",
              "      <th>51632121</th>\n",
              "      <td>1</td>\n",
              "    </tr>\n",
              "  </tbody>\n",
              "</table>\n",
              "</div>"
            ],
            "text/plain": [
              "          Predicted\n",
              "Id                 \n",
              "46785369          0\n",
              "38908667          0\n",
              "44703012          0\n",
              "34910435          0\n",
              "51632121          1"
            ]
          },
          "metadata": {
            "tags": []
          },
          "execution_count": 134
        }
      ]
    },
    {
      "cell_type": "markdown",
      "metadata": {
        "id": "fNSynzciDRBF"
      },
      "source": [
        "ЛАБА ОГОНЬ: интересно, но дооооооооооооооооооооооооооооооооолго"
      ]
    }
  ]
}